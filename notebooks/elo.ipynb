{
 "cells": [
  {
   "cell_type": "code",
   "execution_count": 1,
   "id": "aeae908e",
   "metadata": {},
   "outputs": [],
   "source": [
    "from footix.models.elo import EloDavidson\n",
    "from footix.data_io.footballdata import ScrapFootballData\n",
    "from footix.metrics import rps, incertity, zscore\n",
    "import numpy as np"
   ]
  },
  {
   "cell_type": "markdown",
   "id": "b0da01cd",
   "metadata": {},
   "source": [
    "# Loading the dataset:\n",
    "\n",
    "Here, we are going to play with the season 2024-2025 of French division ligue 1, using the scrapper of [football-data](www.footbal-data.co.uk)."
   ]
  },
  {
   "cell_type": "code",
   "execution_count": 2,
   "id": "a6369683",
   "metadata": {},
   "outputs": [],
   "source": [
    "dataset = ScrapFootballData(competition=\"FRA Ligue 1\", season=\"2024-2025\", path =\"./data\", force_reload=True).get_fixtures()"
   ]
  },
  {
   "cell_type": "code",
   "execution_count": 6,
   "id": "d27f0a62",
   "metadata": {},
   "outputs": [],
   "source": [
    "train_dataset = dataset.iloc[:-9]\n",
    "test_dataset = dataset.iloc[-9:]"
   ]
  },
  {
   "cell_type": "markdown",
   "id": "3f2d0c7c",
   "metadata": {},
   "source": [
    "# Initialization of the model and fitting\n"
   ]
  },
  {
   "cell_type": "code",
   "execution_count": 45,
   "id": "8b15123f",
   "metadata": {},
   "outputs": [],
   "source": [
    "model = EloDavidson(n_teams=18, k0=75, lambd=0.1, sigma=400, agnostic_probs=(0.47, 0.3, 0.23))"
   ]
  },
  {
   "cell_type": "code",
   "execution_count": 55,
   "id": "23e664e7",
   "metadata": {},
   "outputs": [],
   "source": [
    "model.fit(X_train=train_dataset)"
   ]
  },
  {
   "cell_type": "markdown",
   "id": "494f056d",
   "metadata": {},
   "source": [
    "We can check the ranking according to the train_dataset:"
   ]
  },
  {
   "cell_type": "code",
   "execution_count": 56,
   "id": "ac72fff6",
   "metadata": {},
   "outputs": [
    {
     "name": "stdout",
     "output_type": "stream",
     "text": [
      "1. Paris SG : 353.31697960831787 \n",
      "2. Strasbourg : 214.35677247717092 \n",
      "3. Monaco : 177.41819800707972 \n",
      "4. Marseille : 124.6070916532047 \n",
      "5. Nice : 121.10957770439222 \n",
      "6. Lille : 106.04991192648706 \n",
      "7. Lyon : 84.66246915610814 \n",
      "8. Brest : 49.861676901004486 \n",
      "9. Lens : 4.298891521425102 \n",
      "10. Rennes : -23.640634591924638 \n",
      "11. Auxerre : -31.997492579646117 \n",
      "12. Toulouse : -84.54657642994815 \n",
      "13. Angers : -103.9699802064673 \n",
      "14. St Etienne : -114.5912481140742 \n",
      "15. Nantes : -114.77613337819021 \n",
      "16. Le Havre : -149.17233346884598 \n",
      "17. Reims : -199.83202409496553 \n",
      "18. Montpellier : -413.15514609112785 \n",
      "\n"
     ]
    }
   ],
   "source": [
    "print(model)"
   ]
  },
  {
   "cell_type": "markdown",
   "id": "56d1dd4d",
   "metadata": {},
   "source": [
    "# Let's compute some metrics"
   ]
  },
  {
   "cell_type": "code",
   "execution_count": 47,
   "id": "056ce4bb",
   "metadata": {},
   "outputs": [],
   "source": [
    "rps_list = []\n",
    "incertity_list = []\n",
    "zscore_list = []\n",
    "\n",
    "def _helper_result(result_str: str)-> int:\n",
    "    if result_str==\"H\":\n",
    "        return 0\n",
    "    if result_str==\"D\":\n",
    "        return 1\n",
    "    return 2\n",
    "\n",
    "for idx, row in test_dataset.iterrows():\n",
    "    probability = model.predict(home_team=row[\"home_team\"], away_team=row[\"away_team\"])\n",
    "    outcome_idx = _helper_result(row[\"ftr\"])\n",
    "    rps_list.append(rps(probas=probability, outcome_idx=outcome_idx))\n",
    "    zscore_list.append(zscore(probas=probability,rps_observed=rps_list[-1]))\n",
    "    incertity_list.append(incertity(probas=probability, outcome_idx=outcome_idx))"
   ]
  },
  {
   "cell_type": "code",
   "execution_count": 48,
   "id": "8fa8c0f1",
   "metadata": {},
   "outputs": [
    {
     "name": "stdout",
     "output_type": "stream",
     "text": [
      "Incertity metric : 0.8097040553292228 +/- 0.7797334025105871\n",
      "RPS metric : 0.20217860243094035 +/- 0.23074536018746047\n",
      "Z-score metric : 0.22743251894424735 +/- 0.816334551077693\n"
     ]
    }
   ],
   "source": [
    "print(f\"Incertity metric : {np.mean(incertity_list)} +/- {np.std(incertity_list)}\")\n",
    "print(f\"RPS metric : {np.mean(rps_list)} +/- {np.std(rps_list)}\")\n",
    "print(f\"Z-score metric : {np.mean(zscore_list)} +/- {np.std(zscore_list)}\")"
   ]
  },
  {
   "cell_type": "markdown",
   "id": "19cdd9f8",
   "metadata": {},
   "source": [
    "According to these metrics, we can say that for this particular matchday:\n",
    "- The Elo model is somewhat uncertain but not by much.\n",
    "- it delivers reasonable but not outstanding probabilistic accuracy (RPS),\n",
    "- The Elo-Davidson model is not well calibrated (large value of z-score)."
   ]
  },
  {
   "cell_type": "markdown",
   "id": "e4bcf43c",
   "metadata": {},
   "source": [
    "# Game focus"
   ]
  },
  {
   "cell_type": "code",
   "execution_count": 59,
   "id": "76f7c9c9",
   "metadata": {},
   "outputs": [],
   "source": [
    "probability = model.predict(home_team=\"St Etienne\", away_team=\"Toulouse\")"
   ]
  },
  {
   "cell_type": "code",
   "execution_count": 60,
   "id": "f5a88a5d",
   "metadata": {},
   "outputs": [
    {
     "name": "stdout",
     "output_type": "stream",
     "text": [
      "St Etienne - Toulouse outcome probabilities\n",
      "Probability of home victory : 43.90 %\n",
      "Probability of a draw : 30.55\n",
      "Probability of away victory : 25.54\n"
     ]
    }
   ],
   "source": [
    "print(\"St Etienne - Toulouse outcome probabilities\")\n",
    "print(f\"Probability of home victory : {100*probability.proba_home:.2f} %\")\n",
    "print(f\"Probability of a draw : {100*probability.proba_draw:.2f}\")\n",
    "print(f\"Probability of away victory : {100*probability.proba_away:.2f}\")"
   ]
  }
 ],
 "metadata": {
  "kernelspec": {
   "display_name": "footix",
   "language": "python",
   "name": "python3"
  },
  "language_info": {
   "codemirror_mode": {
    "name": "ipython",
    "version": 3
   },
   "file_extension": ".py",
   "mimetype": "text/x-python",
   "name": "python",
   "nbconvert_exporter": "python",
   "pygments_lexer": "ipython3",
   "version": "3.12.8"
  }
 },
 "nbformat": 4,
 "nbformat_minor": 5
}
