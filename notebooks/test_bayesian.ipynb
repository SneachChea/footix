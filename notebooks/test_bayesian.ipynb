{
 "cells": [
  {
   "cell_type": "code",
   "execution_count": 1,
   "metadata": {},
   "outputs": [],
   "source": [
    "import pandas as pd\n",
    "from footix.models.bayesian import Bayesian\n",
    "import footix.implied_odds as odds\n",
    "import collections\n",
    "from footix.data_io.data_scrapper import ScrapFootballData\n"
   ]
  },
  {
   "cell_type": "code",
   "execution_count": 2,
   "metadata": {},
   "outputs": [],
   "source": [
    "dataset = ScrapFootballData(competition=\"ligue2\", season=\"2425\", path =\"./data\", force_reload=True).get_data()"
   ]
  },
  {
   "cell_type": "code",
   "execution_count": 3,
   "metadata": {},
   "outputs": [
    {
     "data": {
      "text/html": [
       "<div>\n",
       "<style scoped>\n",
       "    .dataframe tbody tr th:only-of-type {\n",
       "        vertical-align: middle;\n",
       "    }\n",
       "\n",
       "    .dataframe tbody tr th {\n",
       "        vertical-align: top;\n",
       "    }\n",
       "\n",
       "    .dataframe thead th {\n",
       "        text-align: right;\n",
       "    }\n",
       "</style>\n",
       "<table border=\"1\" class=\"dataframe\">\n",
       "  <thead>\n",
       "    <tr style=\"text-align: right;\">\n",
       "      <th></th>\n",
       "      <th>Div</th>\n",
       "      <th>Date</th>\n",
       "      <th>Time</th>\n",
       "      <th>HomeTeam</th>\n",
       "      <th>AwayTeam</th>\n",
       "      <th>FTHG</th>\n",
       "      <th>FTAG</th>\n",
       "      <th>FTR</th>\n",
       "      <th>HTHG</th>\n",
       "      <th>HTAG</th>\n",
       "      <th>...</th>\n",
       "      <th>B365CAHH</th>\n",
       "      <th>B365CAHA</th>\n",
       "      <th>PCAHH</th>\n",
       "      <th>PCAHA</th>\n",
       "      <th>MaxCAHH</th>\n",
       "      <th>MaxCAHA</th>\n",
       "      <th>AvgCAHH</th>\n",
       "      <th>AvgCAHA</th>\n",
       "      <th>BFECAHH</th>\n",
       "      <th>BFECAHA</th>\n",
       "    </tr>\n",
       "  </thead>\n",
       "  <tbody>\n",
       "    <tr>\n",
       "      <th>0</th>\n",
       "      <td>F2</td>\n",
       "      <td>16/08/2024</td>\n",
       "      <td>19:00</td>\n",
       "      <td>Ajaccio</td>\n",
       "      <td>Rodez</td>\n",
       "      <td>1</td>\n",
       "      <td>0</td>\n",
       "      <td>H</td>\n",
       "      <td>0</td>\n",
       "      <td>0</td>\n",
       "      <td>...</td>\n",
       "      <td>1.93</td>\n",
       "      <td>1.93</td>\n",
       "      <td>1.97</td>\n",
       "      <td>1.92</td>\n",
       "      <td>2.02</td>\n",
       "      <td>1.96</td>\n",
       "      <td>1.96</td>\n",
       "      <td>1.89</td>\n",
       "      <td>2.00</td>\n",
       "      <td>1.99</td>\n",
       "    </tr>\n",
       "    <tr>\n",
       "      <th>1</th>\n",
       "      <td>F2</td>\n",
       "      <td>16/08/2024</td>\n",
       "      <td>19:00</td>\n",
       "      <td>Amiens</td>\n",
       "      <td>Red Star</td>\n",
       "      <td>3</td>\n",
       "      <td>0</td>\n",
       "      <td>H</td>\n",
       "      <td>1</td>\n",
       "      <td>0</td>\n",
       "      <td>...</td>\n",
       "      <td>2.13</td>\n",
       "      <td>1.75</td>\n",
       "      <td>2.17</td>\n",
       "      <td>1.76</td>\n",
       "      <td>2.17</td>\n",
       "      <td>1.84</td>\n",
       "      <td>2.07</td>\n",
       "      <td>1.76</td>\n",
       "      <td>2.19</td>\n",
       "      <td>1.83</td>\n",
       "    </tr>\n",
       "    <tr>\n",
       "      <th>2</th>\n",
       "      <td>F2</td>\n",
       "      <td>16/08/2024</td>\n",
       "      <td>19:00</td>\n",
       "      <td>Clermont</td>\n",
       "      <td>Pau FC</td>\n",
       "      <td>2</td>\n",
       "      <td>2</td>\n",
       "      <td>D</td>\n",
       "      <td>1</td>\n",
       "      <td>2</td>\n",
       "      <td>...</td>\n",
       "      <td>1.83</td>\n",
       "      <td>2.03</td>\n",
       "      <td>1.86</td>\n",
       "      <td>2.03</td>\n",
       "      <td>1.89</td>\n",
       "      <td>2.10</td>\n",
       "      <td>1.80</td>\n",
       "      <td>2.02</td>\n",
       "      <td>1.89</td>\n",
       "      <td>2.10</td>\n",
       "    </tr>\n",
       "    <tr>\n",
       "      <th>3</th>\n",
       "      <td>F2</td>\n",
       "      <td>16/08/2024</td>\n",
       "      <td>19:00</td>\n",
       "      <td>Dunkerque</td>\n",
       "      <td>Annecy</td>\n",
       "      <td>0</td>\n",
       "      <td>2</td>\n",
       "      <td>A</td>\n",
       "      <td>0</td>\n",
       "      <td>0</td>\n",
       "      <td>...</td>\n",
       "      <td>1.78</td>\n",
       "      <td>2.10</td>\n",
       "      <td>1.75</td>\n",
       "      <td>2.16</td>\n",
       "      <td>1.83</td>\n",
       "      <td>2.22</td>\n",
       "      <td>1.72</td>\n",
       "      <td>2.13</td>\n",
       "      <td>1.82</td>\n",
       "      <td>2.20</td>\n",
       "    </tr>\n",
       "    <tr>\n",
       "      <th>4</th>\n",
       "      <td>F2</td>\n",
       "      <td>16/08/2024</td>\n",
       "      <td>19:00</td>\n",
       "      <td>Grenoble</td>\n",
       "      <td>Laval</td>\n",
       "      <td>2</td>\n",
       "      <td>1</td>\n",
       "      <td>H</td>\n",
       "      <td>0</td>\n",
       "      <td>0</td>\n",
       "      <td>...</td>\n",
       "      <td>2.00</td>\n",
       "      <td>1.85</td>\n",
       "      <td>2.01</td>\n",
       "      <td>1.88</td>\n",
       "      <td>2.02</td>\n",
       "      <td>1.92</td>\n",
       "      <td>1.97</td>\n",
       "      <td>1.84</td>\n",
       "      <td>2.05</td>\n",
       "      <td>1.94</td>\n",
       "    </tr>\n",
       "    <tr>\n",
       "      <th>...</th>\n",
       "      <td>...</td>\n",
       "      <td>...</td>\n",
       "      <td>...</td>\n",
       "      <td>...</td>\n",
       "      <td>...</td>\n",
       "      <td>...</td>\n",
       "      <td>...</td>\n",
       "      <td>...</td>\n",
       "      <td>...</td>\n",
       "      <td>...</td>\n",
       "      <td>...</td>\n",
       "      <td>...</td>\n",
       "      <td>...</td>\n",
       "      <td>...</td>\n",
       "      <td>...</td>\n",
       "      <td>...</td>\n",
       "      <td>...</td>\n",
       "      <td>...</td>\n",
       "      <td>...</td>\n",
       "      <td>...</td>\n",
       "      <td>...</td>\n",
       "    </tr>\n",
       "    <tr>\n",
       "      <th>260</th>\n",
       "      <td>F2</td>\n",
       "      <td>07/04/2025</td>\n",
       "      <td>19:45</td>\n",
       "      <td>Dunkerque</td>\n",
       "      <td>Guingamp</td>\n",
       "      <td>3</td>\n",
       "      <td>1</td>\n",
       "      <td>H</td>\n",
       "      <td>0</td>\n",
       "      <td>0</td>\n",
       "      <td>...</td>\n",
       "      <td>1.99</td>\n",
       "      <td>1.74</td>\n",
       "      <td>2.07</td>\n",
       "      <td>1.83</td>\n",
       "      <td>2.09</td>\n",
       "      <td>1.83</td>\n",
       "      <td>2.01</td>\n",
       "      <td>1.80</td>\n",
       "      <td>2.11</td>\n",
       "      <td>1.89</td>\n",
       "    </tr>\n",
       "    <tr>\n",
       "      <th>261</th>\n",
       "      <td>F2</td>\n",
       "      <td>11/04/2025</td>\n",
       "      <td>19:00</td>\n",
       "      <td>Amiens</td>\n",
       "      <td>Dunkerque</td>\n",
       "      <td>1</td>\n",
       "      <td>0</td>\n",
       "      <td>H</td>\n",
       "      <td>0</td>\n",
       "      <td>0</td>\n",
       "      <td>...</td>\n",
       "      <td>1.98</td>\n",
       "      <td>1.88</td>\n",
       "      <td>1.98</td>\n",
       "      <td>1.91</td>\n",
       "      <td>2.06</td>\n",
       "      <td>1.91</td>\n",
       "      <td>1.93</td>\n",
       "      <td>1.87</td>\n",
       "      <td>2.05</td>\n",
       "      <td>1.94</td>\n",
       "    </tr>\n",
       "    <tr>\n",
       "      <th>262</th>\n",
       "      <td>F2</td>\n",
       "      <td>11/04/2025</td>\n",
       "      <td>19:00</td>\n",
       "      <td>Martigues</td>\n",
       "      <td>Metz</td>\n",
       "      <td>1</td>\n",
       "      <td>4</td>\n",
       "      <td>A</td>\n",
       "      <td>1</td>\n",
       "      <td>3</td>\n",
       "      <td>...</td>\n",
       "      <td>1.83</td>\n",
       "      <td>2.03</td>\n",
       "      <td>1.85</td>\n",
       "      <td>2.04</td>\n",
       "      <td>1.85</td>\n",
       "      <td>2.07</td>\n",
       "      <td>1.81</td>\n",
       "      <td>2.00</td>\n",
       "      <td>1.83</td>\n",
       "      <td>2.15</td>\n",
       "    </tr>\n",
       "    <tr>\n",
       "      <th>263</th>\n",
       "      <td>F2</td>\n",
       "      <td>11/04/2025</td>\n",
       "      <td>19:00</td>\n",
       "      <td>Pau FC</td>\n",
       "      <td>Clermont</td>\n",
       "      <td>2</td>\n",
       "      <td>2</td>\n",
       "      <td>D</td>\n",
       "      <td>1</td>\n",
       "      <td>1</td>\n",
       "      <td>...</td>\n",
       "      <td>2.00</td>\n",
       "      <td>1.85</td>\n",
       "      <td>2.00</td>\n",
       "      <td>1.89</td>\n",
       "      <td>2.03</td>\n",
       "      <td>1.89</td>\n",
       "      <td>1.96</td>\n",
       "      <td>1.84</td>\n",
       "      <td>2.09</td>\n",
       "      <td>1.90</td>\n",
       "    </tr>\n",
       "    <tr>\n",
       "      <th>264</th>\n",
       "      <td>F2</td>\n",
       "      <td>11/04/2025</td>\n",
       "      <td>19:00</td>\n",
       "      <td>Red Star</td>\n",
       "      <td>Annecy</td>\n",
       "      <td>0</td>\n",
       "      <td>1</td>\n",
       "      <td>A</td>\n",
       "      <td>0</td>\n",
       "      <td>1</td>\n",
       "      <td>...</td>\n",
       "      <td>2.00</td>\n",
       "      <td>1.85</td>\n",
       "      <td>2.05</td>\n",
       "      <td>1.85</td>\n",
       "      <td>2.05</td>\n",
       "      <td>1.88</td>\n",
       "      <td>2.01</td>\n",
       "      <td>1.79</td>\n",
       "      <td>2.12</td>\n",
       "      <td>1.87</td>\n",
       "    </tr>\n",
       "  </tbody>\n",
       "</table>\n",
       "<p>265 rows × 119 columns</p>\n",
       "</div>"
      ],
      "text/plain": [
       "    Div        Date   Time   HomeTeam   AwayTeam  FTHG  FTAG FTR  HTHG  HTAG  \\\n",
       "0    F2  16/08/2024  19:00    Ajaccio      Rodez     1     0   H     0     0   \n",
       "1    F2  16/08/2024  19:00     Amiens   Red Star     3     0   H     1     0   \n",
       "2    F2  16/08/2024  19:00   Clermont     Pau FC     2     2   D     1     2   \n",
       "3    F2  16/08/2024  19:00  Dunkerque     Annecy     0     2   A     0     0   \n",
       "4    F2  16/08/2024  19:00   Grenoble      Laval     2     1   H     0     0   \n",
       "..   ..         ...    ...        ...        ...   ...   ...  ..   ...   ...   \n",
       "260  F2  07/04/2025  19:45  Dunkerque   Guingamp     3     1   H     0     0   \n",
       "261  F2  11/04/2025  19:00     Amiens  Dunkerque     1     0   H     0     0   \n",
       "262  F2  11/04/2025  19:00  Martigues       Metz     1     4   A     1     3   \n",
       "263  F2  11/04/2025  19:00     Pau FC   Clermont     2     2   D     1     1   \n",
       "264  F2  11/04/2025  19:00   Red Star     Annecy     0     1   A     0     1   \n",
       "\n",
       "     ... B365CAHH  B365CAHA  PCAHH  PCAHA  MaxCAHH  MaxCAHA  AvgCAHH  AvgCAHA  \\\n",
       "0    ...     1.93      1.93   1.97   1.92     2.02     1.96     1.96     1.89   \n",
       "1    ...     2.13      1.75   2.17   1.76     2.17     1.84     2.07     1.76   \n",
       "2    ...     1.83      2.03   1.86   2.03     1.89     2.10     1.80     2.02   \n",
       "3    ...     1.78      2.10   1.75   2.16     1.83     2.22     1.72     2.13   \n",
       "4    ...     2.00      1.85   2.01   1.88     2.02     1.92     1.97     1.84   \n",
       "..   ...      ...       ...    ...    ...      ...      ...      ...      ...   \n",
       "260  ...     1.99      1.74   2.07   1.83     2.09     1.83     2.01     1.80   \n",
       "261  ...     1.98      1.88   1.98   1.91     2.06     1.91     1.93     1.87   \n",
       "262  ...     1.83      2.03   1.85   2.04     1.85     2.07     1.81     2.00   \n",
       "263  ...     2.00      1.85   2.00   1.89     2.03     1.89     1.96     1.84   \n",
       "264  ...     2.00      1.85   2.05   1.85     2.05     1.88     2.01     1.79   \n",
       "\n",
       "     BFECAHH  BFECAHA  \n",
       "0       2.00     1.99  \n",
       "1       2.19     1.83  \n",
       "2       1.89     2.10  \n",
       "3       1.82     2.20  \n",
       "4       2.05     1.94  \n",
       "..       ...      ...  \n",
       "260     2.11     1.89  \n",
       "261     2.05     1.94  \n",
       "262     1.83     2.15  \n",
       "263     2.09     1.90  \n",
       "264     2.12     1.87  \n",
       "\n",
       "[265 rows x 119 columns]"
      ]
     },
     "execution_count": 3,
     "metadata": {},
     "output_type": "execute_result"
    }
   ],
   "source": [
    "dataset.head(-5)"
   ]
  },
  {
   "cell_type": "code",
   "execution_count": 4,
   "metadata": {},
   "outputs": [
    {
     "data": {
      "text/plain": [
       "array(['Ajaccio', 'Amiens', 'Clermont', 'Dunkerque', 'Grenoble',\n",
       "       'Guingamp', 'Caen', 'Martigues', 'Metz', 'Annecy', 'Bastia',\n",
       "       'Laval', 'Paris FC', 'Pau FC', 'Rodez', 'Troyes', 'Lorient',\n",
       "       'Red Star'], dtype=object)"
      ]
     },
     "execution_count": 4,
     "metadata": {},
     "output_type": "execute_result"
    }
   ],
   "source": [
    "dataset[\"HomeTeam\"].unique()"
   ]
  },
  {
   "cell_type": "code",
   "execution_count": 5,
   "metadata": {},
   "outputs": [],
   "source": [
    "model = Bayesian(n_teams=18, n_goals=15)"
   ]
  },
  {
   "cell_type": "code",
   "execution_count": 6,
   "metadata": {},
   "outputs": [
    {
     "name": "stderr",
     "output_type": "stream",
     "text": [
      "Initializing NUTS using jitter+adapt_diag...\n",
      "Multiprocess sampling (6 chains in 6 jobs)\n",
      "NUTS: [home, intercept, tau_att, raw_atts, tau_def, raw_defs]\n"
     ]
    },
    {
     "data": {
      "application/vnd.jupyter.widget-view+json": {
       "model_id": "66a0d2450960405faedf7058d0e04fde",
       "version_major": 2,
       "version_minor": 0
      },
      "text/plain": [
       "Output()"
      ]
     },
     "metadata": {},
     "output_type": "display_data"
    },
    {
     "data": {
      "text/html": [
       "<pre style=\"white-space:pre;overflow-x:auto;line-height:normal;font-family:Menlo,'DejaVu Sans Mono',consolas,'Courier New',monospace\"></pre>\n"
      ],
      "text/plain": []
     },
     "metadata": {},
     "output_type": "display_data"
    },
    {
     "name": "stderr",
     "output_type": "stream",
     "text": [
      "Sampling 6 chains for 500 tune and 2_000 draw iterations (3_000 + 12_000 draws total) took 10 seconds.\n"
     ]
    }
   ],
   "source": [
    "model.fit(X_train=dataset)"
   ]
  },
  {
   "cell_type": "code",
   "execution_count": null,
   "metadata": {},
   "outputs": [
    {
     "name": "stdout",
     "output_type": "stream",
     "text": [
      "##################################################\n",
      "AC Ajaccio                     Pau                           \n"
     ]
    },
    {
     "ename": "ValueError",
     "evalue": "y contains previously unseen labels: 'AC Ajaccio'",
     "output_type": "error",
     "traceback": [
      "\u001b[0;31m---------------------------------------------------------------------------\u001b[0m",
      "\u001b[0;31mKeyError\u001b[0m                                  Traceback (most recent call last)",
      "File \u001b[0;32m~/miniconda3/envs/footix/lib/python3.12/site-packages/sklearn/utils/_encode.py:235\u001b[0m, in \u001b[0;36m_encode\u001b[0;34m(values, uniques, check_unknown)\u001b[0m\n\u001b[1;32m    234\u001b[0m \u001b[38;5;28;01mtry\u001b[39;00m:\n\u001b[0;32m--> 235\u001b[0m     \u001b[38;5;28;01mreturn\u001b[39;00m \u001b[43m_map_to_integer\u001b[49m\u001b[43m(\u001b[49m\u001b[43mvalues\u001b[49m\u001b[43m,\u001b[49m\u001b[43m \u001b[49m\u001b[43muniques\u001b[49m\u001b[43m)\u001b[49m\n\u001b[1;32m    236\u001b[0m \u001b[38;5;28;01mexcept\u001b[39;00m \u001b[38;5;167;01mKeyError\u001b[39;00m \u001b[38;5;28;01mas\u001b[39;00m e:\n",
      "File \u001b[0;32m~/miniconda3/envs/footix/lib/python3.12/site-packages/sklearn/utils/_encode.py:174\u001b[0m, in \u001b[0;36m_map_to_integer\u001b[0;34m(values, uniques)\u001b[0m\n\u001b[1;32m    173\u001b[0m table \u001b[38;5;241m=\u001b[39m _nandict({val: i \u001b[38;5;28;01mfor\u001b[39;00m i, val \u001b[38;5;129;01min\u001b[39;00m \u001b[38;5;28menumerate\u001b[39m(uniques)})\n\u001b[0;32m--> 174\u001b[0m \u001b[38;5;28;01mreturn\u001b[39;00m xp\u001b[38;5;241m.\u001b[39masarray([\u001b[43mtable\u001b[49m\u001b[43m[\u001b[49m\u001b[43mv\u001b[49m\u001b[43m]\u001b[49m \u001b[38;5;28;01mfor\u001b[39;00m v \u001b[38;5;129;01min\u001b[39;00m values], device\u001b[38;5;241m=\u001b[39mdevice(values))\n",
      "File \u001b[0;32m~/miniconda3/envs/footix/lib/python3.12/site-packages/sklearn/utils/_encode.py:167\u001b[0m, in \u001b[0;36m_nandict.__missing__\u001b[0;34m(self, key)\u001b[0m\n\u001b[1;32m    166\u001b[0m     \u001b[38;5;28;01mreturn\u001b[39;00m \u001b[38;5;28mself\u001b[39m\u001b[38;5;241m.\u001b[39mnan_value\n\u001b[0;32m--> 167\u001b[0m \u001b[38;5;28;01mraise\u001b[39;00m \u001b[38;5;167;01mKeyError\u001b[39;00m(key)\n",
      "\u001b[0;31mKeyError\u001b[0m: 'AC Ajaccio'",
      "\nDuring handling of the above exception, another exception occurred:\n",
      "\u001b[0;31mValueError\u001b[0m                                Traceback (most recent call last)",
      "Cell \u001b[0;32mIn[9], line 7\u001b[0m\n\u001b[1;32m      5\u001b[0m \u001b[38;5;28mprint\u001b[39m(\u001b[38;5;124mf\u001b[39m\u001b[38;5;124m\"\u001b[39m\u001b[38;5;132;01m{\u001b[39;00mmatch[\u001b[38;5;124m'\u001b[39m\u001b[38;5;124mhome_team\u001b[39m\u001b[38;5;124m'\u001b[39m]\u001b[38;5;132;01m:\u001b[39;00m\u001b[38;5;124m<30\u001b[39m\u001b[38;5;132;01m}\u001b[39;00m\u001b[38;5;124m \u001b[39m\u001b[38;5;132;01m{\u001b[39;00mmatch[\u001b[38;5;124m'\u001b[39m\u001b[38;5;124maway_team\u001b[39m\u001b[38;5;124m'\u001b[39m]\u001b[38;5;132;01m:\u001b[39;00m\u001b[38;5;124m<30\u001b[39m\u001b[38;5;132;01m}\u001b[39;00m\u001b[38;5;124m\"\u001b[39m)\n\u001b[1;32m      6\u001b[0m \u001b[38;5;66;03m# Display probabilities from Poisson prediction\u001b[39;00m\n\u001b[0;32m----> 7\u001b[0m probas \u001b[38;5;241m=\u001b[39m \u001b[43mmodel\u001b[49m\u001b[38;5;241;43m.\u001b[39;49m\u001b[43mpredict\u001b[49m\u001b[43m(\u001b[49m\u001b[43mhome_team\u001b[49m\u001b[38;5;241;43m=\u001b[39;49m\u001b[43mmatch\u001b[49m\u001b[43m[\u001b[49m\u001b[38;5;124;43m\"\u001b[39;49m\u001b[38;5;124;43mhome_team\u001b[39;49m\u001b[38;5;124;43m\"\u001b[39;49m\u001b[43m]\u001b[49m\u001b[43m,\u001b[49m\u001b[43m \u001b[49m\u001b[43maway_team\u001b[49m\u001b[38;5;241;43m=\u001b[39;49m\u001b[43mmatch\u001b[49m\u001b[43m[\u001b[49m\u001b[38;5;124;43m\"\u001b[39;49m\u001b[38;5;124;43maway_team\u001b[39;49m\u001b[38;5;124;43m\"\u001b[39;49m\u001b[43m]\u001b[49m\u001b[43m)\u001b[49m\u001b[38;5;241m.\u001b[39mreturn_probas()\n\u001b[1;32m      8\u001b[0m home_prob \u001b[38;5;241m=\u001b[39m probas[\u001b[38;5;241m0\u001b[39m]\n\u001b[1;32m      9\u001b[0m draw_prob \u001b[38;5;241m=\u001b[39m probas[\u001b[38;5;241m1\u001b[39m]\n",
      "File \u001b[0;32m~/workspace/footix/footix/models/bayesian.py:34\u001b[0m, in \u001b[0;36mBayesian.predict\u001b[0;34m(self, home_team, away_team)\u001b[0m\n\u001b[1;32m     33\u001b[0m \u001b[38;5;28;01mdef\u001b[39;00m\u001b[38;5;250m \u001b[39m\u001b[38;5;21mpredict\u001b[39m(\u001b[38;5;28mself\u001b[39m, home_team: \u001b[38;5;28mstr\u001b[39m, away_team: \u001b[38;5;28mstr\u001b[39m) \u001b[38;5;241m-\u001b[39m\u001b[38;5;241m>\u001b[39m GoalMatrix:\n\u001b[0;32m---> 34\u001b[0m     team_id \u001b[38;5;241m=\u001b[39m \u001b[38;5;28;43mself\u001b[39;49m\u001b[38;5;241;43m.\u001b[39;49m\u001b[43mlabel\u001b[49m\u001b[38;5;241;43m.\u001b[39;49m\u001b[43mtransform\u001b[49m\u001b[43m(\u001b[49m\u001b[43m[\u001b[49m\u001b[43mhome_team\u001b[49m\u001b[43m,\u001b[49m\u001b[43m \u001b[49m\u001b[43maway_team\u001b[49m\u001b[43m]\u001b[49m\u001b[43m)\u001b[49m\n\u001b[1;32m     36\u001b[0m     home_goal_expectation, away_goal_expectation \u001b[38;5;241m=\u001b[39m \u001b[38;5;28mself\u001b[39m\u001b[38;5;241m.\u001b[39mgoal_expectation(\n\u001b[1;32m     37\u001b[0m         home_team_id\u001b[38;5;241m=\u001b[39mteam_id[\u001b[38;5;241m0\u001b[39m], away_team_id\u001b[38;5;241m=\u001b[39mteam_id[\u001b[38;5;241m1\u001b[39m]\n\u001b[1;32m     38\u001b[0m     )\n\u001b[1;32m     40\u001b[0m     home_probs \u001b[38;5;241m=\u001b[39m stats\u001b[38;5;241m.\u001b[39mpoisson\u001b[38;5;241m.\u001b[39mpmf(\u001b[38;5;28mrange\u001b[39m(\u001b[38;5;28mself\u001b[39m\u001b[38;5;241m.\u001b[39mn_goals), home_goal_expectation)\n",
      "File \u001b[0;32m~/miniconda3/envs/footix/lib/python3.12/site-packages/sklearn/preprocessing/_label.py:134\u001b[0m, in \u001b[0;36mLabelEncoder.transform\u001b[0;34m(self, y)\u001b[0m\n\u001b[1;32m    131\u001b[0m \u001b[38;5;28;01mif\u001b[39;00m _num_samples(y) \u001b[38;5;241m==\u001b[39m \u001b[38;5;241m0\u001b[39m:\n\u001b[1;32m    132\u001b[0m     \u001b[38;5;28;01mreturn\u001b[39;00m xp\u001b[38;5;241m.\u001b[39masarray([])\n\u001b[0;32m--> 134\u001b[0m \u001b[38;5;28;01mreturn\u001b[39;00m \u001b[43m_encode\u001b[49m\u001b[43m(\u001b[49m\u001b[43my\u001b[49m\u001b[43m,\u001b[49m\u001b[43m \u001b[49m\u001b[43muniques\u001b[49m\u001b[38;5;241;43m=\u001b[39;49m\u001b[38;5;28;43mself\u001b[39;49m\u001b[38;5;241;43m.\u001b[39;49m\u001b[43mclasses_\u001b[49m\u001b[43m)\u001b[49m\n",
      "File \u001b[0;32m~/miniconda3/envs/footix/lib/python3.12/site-packages/sklearn/utils/_encode.py:237\u001b[0m, in \u001b[0;36m_encode\u001b[0;34m(values, uniques, check_unknown)\u001b[0m\n\u001b[1;32m    235\u001b[0m         \u001b[38;5;28;01mreturn\u001b[39;00m _map_to_integer(values, uniques)\n\u001b[1;32m    236\u001b[0m     \u001b[38;5;28;01mexcept\u001b[39;00m \u001b[38;5;167;01mKeyError\u001b[39;00m \u001b[38;5;28;01mas\u001b[39;00m e:\n\u001b[0;32m--> 237\u001b[0m         \u001b[38;5;28;01mraise\u001b[39;00m \u001b[38;5;167;01mValueError\u001b[39;00m(\u001b[38;5;124mf\u001b[39m\u001b[38;5;124m\"\u001b[39m\u001b[38;5;124my contains previously unseen labels: \u001b[39m\u001b[38;5;132;01m{\u001b[39;00m\u001b[38;5;28mstr\u001b[39m(e)\u001b[38;5;132;01m}\u001b[39;00m\u001b[38;5;124m\"\u001b[39m)\n\u001b[1;32m    238\u001b[0m \u001b[38;5;28;01melse\u001b[39;00m:\n\u001b[1;32m    239\u001b[0m     \u001b[38;5;28;01mif\u001b[39;00m check_unknown:\n",
      "\u001b[0;31mValueError\u001b[0m: y contains previously unseen labels: 'AC Ajaccio'"
     ]
    }
   ],
   "source": [
    "fixture = pd.read_csv(\"ligue2_18-04-2025.csv\")\n",
    "# Assuming fixture and odds are already defined DataFrames\n",
    "for idx, match in fixture.iterrows():\n",
    "    print(\"#\" * 50)\n",
    "    print(f\"{match['home_team']:<30} {match['away_team']:<30}\")\n",
    "    # Display probabilities from Poisson prediction\n",
    "    probas = model.predict(home_team=match[\"home_team\"], away_team=match[\"away_team\"]).return_probas()\n",
    "    home_prob = probas[0]\n",
    "    draw_prob = probas[1]\n",
    "    away_prob = probas[2]\n",
    "    print(f\"  Probabilities: Home: {home_prob:.2f}, Draw: {draw_prob:.2f}, Away: {away_prob:.2f}\")\n",
    "    # Display odds from the function\n",
    "    odds_list = [match[\"H\"], match[\"D\"], match[\"A\"]]\n",
    "    odds_result = odds.shin(odds=odds_list)[0]\n",
    "    print(f\"  Odds: Home: {odds_result[0]:.2f}, Draw: {odds_result[1]:.2f}, Away: {odds_result[2]:.2f}\")\n",
    "    print(\"#\" * 50)"
   ]
  },
  {
   "cell_type": "code",
   "execution_count": 19,
   "metadata": {},
   "outputs": [],
   "source": [
    "#pm.summary(model.trace)"
   ]
  },
  {
   "cell_type": "markdown",
   "metadata": {},
   "source": []
  },
  {
   "cell_type": "code",
   "execution_count": 20,
   "metadata": {},
   "outputs": [],
   "source": [
    "# Assuming fixture and odds are already defined DataFrames\n",
    "fixture = pd.read_csv(\"odds_info.csv\")\n",
    "selections = []\n",
    "\n",
    "for idx, match in fixture.iterrows():\n",
    "    home_team = match[\"home_team\"]\n",
    "    away_team = match[\"away_team\"]\n",
    "    name = f\"{home_team} vs {away_team} - \"\n",
    "\n",
    "    # Display probabilities from Poisson prediction\n",
    "    probas = model.predict(home_team=home_team, away_team=away_team).return_probas()\n",
    "    home_prob = probas[0]\n",
    "    draw_prob = probas[1]\n",
    "    away_prob = probas[2]\n",
    "\n",
    "    # Display odds from the function\n",
    "    odds_list = [match[\"H\"], match[\"D\"], match[\"A\"]]\n",
    "    odds_result = odds.shin(odds=odds_list)[0]\n",
    "    home_implied = odds_result[0]\n",
    "    draw_implied = odds_result[1]\n",
    "    away_implied = odds_result[2]\n",
    "\n",
    "    home_odd = odds_list[0]\n",
    "    draw_odd = odds_list[1]\n",
    "    away_odd = odds_list[2]\n",
    "\n",
    "    # Calculate the value for each outcome\n",
    "    home_value = home_prob - home_implied\n",
    "    draw_value = draw_prob - draw_implied\n",
    "    away_value = away_prob - away_implied\n",
    "\n",
    "    # Determine the best selection\n",
    "    if home_value >= draw_value and home_value >= away_value:\n",
    "        best_prob = home_prob\n",
    "        best_odd = home_odd\n",
    "        sel = \"home\"\n",
    "    elif draw_value >= home_value and draw_value >= away_value:\n",
    "        best_prob = draw_prob\n",
    "        best_odd = draw_odd\n",
    "        sel = \"draw\"\n",
    "    else:\n",
    "        best_prob = away_prob\n",
    "        best_odd = away_odd\n",
    "        sel = \"away\"\n",
    "    # Append the selection to the list\n",
    "    selections.append({\n",
    "        \"name\": name+sel,\n",
    "        \"probability\": best_prob,\n",
    "        \"odds_bookie\": best_odd\n",
    "    })"
   ]
  },
  {
   "cell_type": "code",
   "execution_count": 21,
   "metadata": {},
   "outputs": [
    {
     "name": "stdout",
     "output_type": "stream",
     "text": [
      "[{'name': 'Rennes vs Nantes - away', 'probability': 0.30277683589466087, 'odds_bookie': 4.45}, {'name': 'Paris SG vs Le Havre - away', 'probability': 0.06464313101722349, 'odds_bookie': 16.0}, {'name': 'Monaco vs Strasbourg - away', 'probability': 0.21752235242031678, 'odds_bookie': 5.1}, {'name': 'Marseille vs Montpellier - draw', 'probability': 0.1383516745906119, 'odds_bookie': 7.0}, {'name': 'Lille vs Auxerre - away', 'probability': 0.23505071892226573, 'odds_bookie': 6.2}, {'name': 'Nice vs Angers - away', 'probability': 0.16377698966446522, 'odds_bookie': 7.6}, {'name': 'Brest vs Lens - away', 'probability': 0.31748628634625736, 'odds_bookie': 3.0}, {'name': 'Reims vs Toulouse - away', 'probability': 0.4717547202016954, 'odds_bookie': 2.1}, {'name': 'St Etienne vs Lyon - away', 'probability': 0.6159054186063452, 'odds_bookie': 1.55}, {'name': 'Nantes vs Paris SG - away', 'probability': 0.7438752173474351, 'odds_bookie': 1.33}, {'name': 'Paris SG vs Nice - away', 'probability': 0.1649989475701312, 'odds_bookie': 6.6}, {'name': 'Strasbourg vs St Etienne - home', 'probability': 0.7325831088986117, 'odds_bookie': 1.56}, {'name': 'Le Havre vs Monaco - draw', 'probability': 0.20767380208751782, 'odds_bookie': 4.45}, {'name': 'Lyon vs Rennes - away', 'probability': 0.2749612472133422, 'odds_bookie': 3.85}, {'name': 'Angers vs Lille - home', 'probability': 0.23157730656183162, 'odds_bookie': 4.4}, {'name': 'Lens vs Auxerre - away', 'probability': 0.3719213706897883, 'odds_bookie': 4.25}, {'name': 'Montpellier vs Reims - away', 'probability': 0.4887663057339237, 'odds_bookie': 2.1}, {'name': 'Nantes vs Toulouse - away', 'probability': 0.494369542628858, 'odds_bookie': 2.15}, {'name': 'Marseille vs Brest - away', 'probability': 0.23278150238629183, 'odds_bookie': 4.5}, {'name': 'Paris SG vs Le Havre - away', 'probability': 0.06464313101722349, 'odds_bookie': 16.0}, {'name': 'Monaco vs Strasbourg - away', 'probability': 0.21752235242031678, 'odds_bookie': 5.1}, {'name': 'Marseille vs Montpellier - draw', 'probability': 0.1383516745906119, 'odds_bookie': 7.0}, {'name': 'Lille vs Auxerre - away', 'probability': 0.23505071892226573, 'odds_bookie': 6.2}, {'name': 'Nice vs Angers - away', 'probability': 0.16377698966446522, 'odds_bookie': 7.6}, {'name': 'Brest vs Lens - away', 'probability': 0.31748628634625736, 'odds_bookie': 3.0}, {'name': 'Reims vs Toulouse - away', 'probability': 0.4717547202016954, 'odds_bookie': 2.1}, {'name': 'St Etienne vs Lyon - away', 'probability': 0.6159054186063452, 'odds_bookie': 1.55}, {'name': 'Nantes vs Paris SG - away', 'probability': 0.7438752173474351, 'odds_bookie': 1.33}, {'name': 'Paris SG vs Nice - away', 'probability': 0.1649989475701312, 'odds_bookie': 6.6}, {'name': 'Strasbourg vs St Etienne - home', 'probability': 0.7325831088986117, 'odds_bookie': 1.56}, {'name': 'Le Havre vs Monaco - draw', 'probability': 0.20767380208751782, 'odds_bookie': 4.45}, {'name': 'Lyon vs Rennes - away', 'probability': 0.2749612472133422, 'odds_bookie': 3.85}, {'name': 'Angers vs Lille - home', 'probability': 0.23157730656183162, 'odds_bookie': 4.4}, {'name': 'Lens vs Auxerre - away', 'probability': 0.3719213706897883, 'odds_bookie': 4.25}, {'name': 'Montpellier vs Reims - away', 'probability': 0.4887663057339237, 'odds_bookie': 2.1}, {'name': 'Nantes vs Toulouse - away', 'probability': 0.494369542628858, 'odds_bookie': 2.15}, {'name': 'Marseille vs Brest - away', 'probability': 0.23278150238629183, 'odds_bookie': 4.5}, {'name': 'Lille vs Auxerre - away', 'probability': 0.23505071892226573, 'odds_bookie': 6.2}, {'name': 'Nice vs Angers - away', 'probability': 0.16377698966446522, 'odds_bookie': 7.6}, {'name': 'Brest vs Lens - away', 'probability': 0.31748628634625736, 'odds_bookie': 3.0}, {'name': 'Reims vs Toulouse - away', 'probability': 0.4717547202016954, 'odds_bookie': 2.1}, {'name': 'St Etienne vs Lyon - away', 'probability': 0.6159054186063452, 'odds_bookie': 1.55}, {'name': 'Nantes vs Paris SG - away', 'probability': 0.7438752173474351, 'odds_bookie': 1.33}, {'name': 'Paris SG vs Nice - away', 'probability': 0.1649989475701312, 'odds_bookie': 6.6}, {'name': 'Strasbourg vs St Etienne - home', 'probability': 0.7325831088986117, 'odds_bookie': 1.56}, {'name': 'Le Havre vs Monaco - draw', 'probability': 0.20767380208751782, 'odds_bookie': 4.45}, {'name': 'Lyon vs Rennes - away', 'probability': 0.2749612472133422, 'odds_bookie': 3.85}, {'name': 'Angers vs Lille - home', 'probability': 0.23157730656183162, 'odds_bookie': 4.4}, {'name': 'Lens vs Auxerre - away', 'probability': 0.3719213706897883, 'odds_bookie': 4.25}, {'name': 'Montpellier vs Reims - away', 'probability': 0.4887663057339237, 'odds_bookie': 2.1}, {'name': 'Nantes vs Toulouse - away', 'probability': 0.494369542628858, 'odds_bookie': 2.15}, {'name': 'Marseille vs Brest - away', 'probability': 0.23278150238629183, 'odds_bookie': 4.5}, {'name': 'Nantes vs Paris SG - away', 'probability': 0.7438752173474351, 'odds_bookie': 1.33}, {'name': 'Paris SG vs Nice - away', 'probability': 0.1649989475701312, 'odds_bookie': 6.6}, {'name': 'Strasbourg vs St Etienne - home', 'probability': 0.7325831088986117, 'odds_bookie': 1.56}, {'name': 'Le Havre vs Monaco - draw', 'probability': 0.20767380208751782, 'odds_bookie': 4.45}, {'name': 'Lyon vs Rennes - away', 'probability': 0.2749612472133422, 'odds_bookie': 3.85}, {'name': 'Angers vs Lille - home', 'probability': 0.23157730656183162, 'odds_bookie': 4.4}, {'name': 'Lens vs Auxerre - away', 'probability': 0.3719213706897883, 'odds_bookie': 4.25}, {'name': 'Montpellier vs Reims - away', 'probability': 0.4887663057339237, 'odds_bookie': 2.1}, {'name': 'Nantes vs Toulouse - away', 'probability': 0.494369542628858, 'odds_bookie': 2.15}, {'name': 'Marseille vs Brest - away', 'probability': 0.23278150238629183, 'odds_bookie': 4.5}, {'name': 'Paris SG vs Nice - away', 'probability': 0.1649989475701312, 'odds_bookie': 6.6}, {'name': 'Strasbourg vs St Etienne - home', 'probability': 0.7325831088986117, 'odds_bookie': 1.56}, {'name': 'Le Havre vs Monaco - draw', 'probability': 0.20767380208751782, 'odds_bookie': 4.45}, {'name': 'Lyon vs Rennes - away', 'probability': 0.2749612472133422, 'odds_bookie': 3.85}, {'name': 'Angers vs Lille - home', 'probability': 0.23157730656183162, 'odds_bookie': 4.4}, {'name': 'Lens vs Auxerre - away', 'probability': 0.3719213706897883, 'odds_bookie': 4.25}, {'name': 'Montpellier vs Reims - away', 'probability': 0.4887663057339237, 'odds_bookie': 2.1}, {'name': 'Nantes vs Toulouse - away', 'probability': 0.494369542628858, 'odds_bookie': 2.15}, {'name': 'Marseille vs Brest - away', 'probability': 0.23278150238629183, 'odds_bookie': 4.5}, {'name': 'Strasbourg vs St Etienne - home', 'probability': 0.7325831088986117, 'odds_bookie': 1.56}, {'name': 'Le Havre vs Monaco - draw', 'probability': 0.20767380208751782, 'odds_bookie': 4.45}, {'name': 'Lyon vs Rennes - away', 'probability': 0.2749612472133422, 'odds_bookie': 3.85}, {'name': 'Angers vs Lille - home', 'probability': 0.23157730656183162, 'odds_bookie': 4.4}, {'name': 'Lens vs Auxerre - away', 'probability': 0.3719213706897883, 'odds_bookie': 4.25}, {'name': 'Montpellier vs Reims - away', 'probability': 0.4887663057339237, 'odds_bookie': 2.1}, {'name': 'Nantes vs Toulouse - away', 'probability': 0.494369542628858, 'odds_bookie': 2.15}, {'name': 'Marseille vs Brest - away', 'probability': 0.23278150238629183, 'odds_bookie': 4.5}, {'name': 'Angers vs Lille - home', 'probability': 0.23157730656183162, 'odds_bookie': 4.4}, {'name': 'Lens vs Auxerre - away', 'probability': 0.3719213706897883, 'odds_bookie': 4.25}, {'name': 'Montpellier vs Reims - away', 'probability': 0.4887663057339237, 'odds_bookie': 2.1}, {'name': 'Nantes vs Toulouse - away', 'probability': 0.494369542628858, 'odds_bookie': 2.15}, {'name': 'Marseille vs Brest - away', 'probability': 0.23278150238629183, 'odds_bookie': 4.5}]\n"
     ]
    }
   ],
   "source": [
    "print(selections)"
   ]
  },
  {
   "cell_type": "code",
   "execution_count": 22,
   "metadata": {},
   "outputs": [],
   "source": [
    "from footix.strategy.strategies import realKelly"
   ]
  },
  {
   "cell_type": "code",
   "execution_count": 23,
   "metadata": {},
   "outputs": [
    {
     "data": {
      "application/vnd.jupyter.widget-view+json": {
       "model_id": "561cd06c21054a84b6641a8690cc4c63",
       "version_major": 2,
       "version_minor": 0
      },
      "text/plain": [
       "  0%|          | 0/5000 [00:00<?, ?it/s]"
      ]
     },
     "metadata": {},
     "output_type": "display_data"
    },
    {
     "name": "stdout",
     "output_type": "stream",
     "text": [
      "\n",
      "2025-04-16 19:31:10- Optimization finished. Runtime --- 7.568 seconds ---\n",
      "\n",
      "Objective: -5.10269\n",
      "Certainty Equivalent: 164.464\n",
      "\n",
      "Rennes vs Nantes - away @ 4.45- € 14\n",
      "Monaco vs Strasbourg - away @ 5.1- € 3\n",
      "Lille vs Auxerre - away @ 6.2- € 12\n",
      "Nice vs Angers - away @ 7.6- € 5\n",
      "Rennes vs Nantes - away / Lille vs Auxerre - away @ 27.59- € 1\n",
      "Rennes vs Nantes - away / Nice vs Angers - away @ 33.82- € 1\n",
      "Bankroll used: 35.07 €\n"
     ]
    },
    {
     "data": {
      "text/plain": [
       "[{'match': 'Rennes vs Nantes - away', 'odd': 4.45, 'stake': 14},\n",
       " {'match': 'Monaco vs Strasbourg - away', 'odd': 5.1, 'stake': 3},\n",
       " {'match': 'Lille vs Auxerre - away', 'odd': 6.2, 'stake': 12},\n",
       " {'match': 'Nice vs Angers - away', 'odd': 7.6, 'stake': 5},\n",
       " {'match': 'Rennes vs Nantes - away / Lille vs Auxerre - away',\n",
       "  'odd': 27.59,\n",
       "  'stake': 1},\n",
       " {'match': 'Rennes vs Nantes - away / Nice vs Angers - away',\n",
       "  'odd': 33.82,\n",
       "  'stake': 1}]"
      ]
     },
     "execution_count": 23,
     "metadata": {},
     "output_type": "execute_result"
    }
   ],
   "source": [
    "realKelly(selections[:9], bankroll=158, max_multiple=3, device=\"cpu\", early_stopping=False, num_iterations=5_000)"
   ]
  },
  {
   "cell_type": "code",
   "execution_count": null,
   "metadata": {},
   "outputs": [],
   "source": []
  },
  {
   "cell_type": "code",
   "execution_count": null,
   "metadata": {},
   "outputs": [],
   "source": []
  },
  {
   "cell_type": "code",
   "execution_count": null,
   "metadata": {},
   "outputs": [],
   "source": []
  }
 ],
 "metadata": {
  "kernelspec": {
   "display_name": "footix",
   "language": "python",
   "name": "python3"
  },
  "language_info": {
   "codemirror_mode": {
    "name": "ipython",
    "version": 3
   },
   "file_extension": ".py",
   "mimetype": "text/x-python",
   "name": "python",
   "nbconvert_exporter": "python",
   "pygments_lexer": "ipython3",
   "version": "3.12.8"
  }
 },
 "nbformat": 4,
 "nbformat_minor": 2
}
