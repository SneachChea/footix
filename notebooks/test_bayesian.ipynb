{
 "cells": [
  {
   "cell_type": "code",
   "execution_count": 50,
   "metadata": {},
   "outputs": [],
   "source": [
    "import pandas as pd\n",
    "from footix.models.bayesian import Bayesian\n",
    "import footix.implied_odds as odds\n",
    "import numpy as np\n",
    "from footix.data_io.data_scrapper import ScrapFootballData\n",
    "from footix.strategy.strategies import realKelly\n",
    "from footix.strategy.bets import OddsInput, Bet\n",
    "from typing import Literal\n",
    "from footix.strategy.select_bets import simple_select_bets, select_matches_posterior\n",
    "import json"
   ]
  },
  {
   "cell_type": "code",
   "execution_count": 51,
   "metadata": {},
   "outputs": [],
   "source": [
    "dataset = ScrapFootballData(competition=\"ligue2\", season=\"2425\", path =\"./data\", force_reload=True).get_data()"
   ]
  },
  {
   "cell_type": "code",
   "execution_count": 52,
   "metadata": {},
   "outputs": [
    {
     "data": {
      "text/html": [
       "<div>\n",
       "<style scoped>\n",
       "    .dataframe tbody tr th:only-of-type {\n",
       "        vertical-align: middle;\n",
       "    }\n",
       "\n",
       "    .dataframe tbody tr th {\n",
       "        vertical-align: top;\n",
       "    }\n",
       "\n",
       "    .dataframe thead th {\n",
       "        text-align: right;\n",
       "    }\n",
       "</style>\n",
       "<table border=\"1\" class=\"dataframe\">\n",
       "  <thead>\n",
       "    <tr style=\"text-align: right;\">\n",
       "      <th></th>\n",
       "      <th>Div</th>\n",
       "      <th>Date</th>\n",
       "      <th>Time</th>\n",
       "      <th>HomeTeam</th>\n",
       "      <th>AwayTeam</th>\n",
       "      <th>FTHG</th>\n",
       "      <th>FTAG</th>\n",
       "      <th>FTR</th>\n",
       "      <th>HTHG</th>\n",
       "      <th>HTAG</th>\n",
       "      <th>...</th>\n",
       "      <th>B365CAHH</th>\n",
       "      <th>B365CAHA</th>\n",
       "      <th>PCAHH</th>\n",
       "      <th>PCAHA</th>\n",
       "      <th>MaxCAHH</th>\n",
       "      <th>MaxCAHA</th>\n",
       "      <th>AvgCAHH</th>\n",
       "      <th>AvgCAHA</th>\n",
       "      <th>BFECAHH</th>\n",
       "      <th>BFECAHA</th>\n",
       "    </tr>\n",
       "  </thead>\n",
       "  <tbody>\n",
       "    <tr>\n",
       "      <th>0</th>\n",
       "      <td>F2</td>\n",
       "      <td>16/08/2024</td>\n",
       "      <td>19:00</td>\n",
       "      <td>Ajaccio</td>\n",
       "      <td>Rodez</td>\n",
       "      <td>1</td>\n",
       "      <td>0</td>\n",
       "      <td>H</td>\n",
       "      <td>0</td>\n",
       "      <td>0</td>\n",
       "      <td>...</td>\n",
       "      <td>1.93</td>\n",
       "      <td>1.93</td>\n",
       "      <td>1.97</td>\n",
       "      <td>1.92</td>\n",
       "      <td>2.02</td>\n",
       "      <td>1.96</td>\n",
       "      <td>1.96</td>\n",
       "      <td>1.89</td>\n",
       "      <td>2.00</td>\n",
       "      <td>1.99</td>\n",
       "    </tr>\n",
       "    <tr>\n",
       "      <th>1</th>\n",
       "      <td>F2</td>\n",
       "      <td>16/08/2024</td>\n",
       "      <td>19:00</td>\n",
       "      <td>Amiens</td>\n",
       "      <td>Red Star</td>\n",
       "      <td>3</td>\n",
       "      <td>0</td>\n",
       "      <td>H</td>\n",
       "      <td>1</td>\n",
       "      <td>0</td>\n",
       "      <td>...</td>\n",
       "      <td>2.13</td>\n",
       "      <td>1.75</td>\n",
       "      <td>2.17</td>\n",
       "      <td>1.76</td>\n",
       "      <td>2.17</td>\n",
       "      <td>1.84</td>\n",
       "      <td>2.07</td>\n",
       "      <td>1.76</td>\n",
       "      <td>2.19</td>\n",
       "      <td>1.83</td>\n",
       "    </tr>\n",
       "    <tr>\n",
       "      <th>2</th>\n",
       "      <td>F2</td>\n",
       "      <td>16/08/2024</td>\n",
       "      <td>19:00</td>\n",
       "      <td>Clermont</td>\n",
       "      <td>Pau FC</td>\n",
       "      <td>2</td>\n",
       "      <td>2</td>\n",
       "      <td>D</td>\n",
       "      <td>1</td>\n",
       "      <td>2</td>\n",
       "      <td>...</td>\n",
       "      <td>1.83</td>\n",
       "      <td>2.03</td>\n",
       "      <td>1.86</td>\n",
       "      <td>2.03</td>\n",
       "      <td>1.89</td>\n",
       "      <td>2.10</td>\n",
       "      <td>1.80</td>\n",
       "      <td>2.02</td>\n",
       "      <td>1.89</td>\n",
       "      <td>2.10</td>\n",
       "    </tr>\n",
       "    <tr>\n",
       "      <th>3</th>\n",
       "      <td>F2</td>\n",
       "      <td>16/08/2024</td>\n",
       "      <td>19:00</td>\n",
       "      <td>Dunkerque</td>\n",
       "      <td>Annecy</td>\n",
       "      <td>0</td>\n",
       "      <td>2</td>\n",
       "      <td>A</td>\n",
       "      <td>0</td>\n",
       "      <td>0</td>\n",
       "      <td>...</td>\n",
       "      <td>1.78</td>\n",
       "      <td>2.10</td>\n",
       "      <td>1.75</td>\n",
       "      <td>2.16</td>\n",
       "      <td>1.83</td>\n",
       "      <td>2.22</td>\n",
       "      <td>1.72</td>\n",
       "      <td>2.13</td>\n",
       "      <td>1.82</td>\n",
       "      <td>2.20</td>\n",
       "    </tr>\n",
       "    <tr>\n",
       "      <th>4</th>\n",
       "      <td>F2</td>\n",
       "      <td>16/08/2024</td>\n",
       "      <td>19:00</td>\n",
       "      <td>Grenoble</td>\n",
       "      <td>Laval</td>\n",
       "      <td>2</td>\n",
       "      <td>1</td>\n",
       "      <td>H</td>\n",
       "      <td>0</td>\n",
       "      <td>0</td>\n",
       "      <td>...</td>\n",
       "      <td>2.00</td>\n",
       "      <td>1.85</td>\n",
       "      <td>2.01</td>\n",
       "      <td>1.88</td>\n",
       "      <td>2.02</td>\n",
       "      <td>1.92</td>\n",
       "      <td>1.97</td>\n",
       "      <td>1.84</td>\n",
       "      <td>2.05</td>\n",
       "      <td>1.94</td>\n",
       "    </tr>\n",
       "    <tr>\n",
       "      <th>...</th>\n",
       "      <td>...</td>\n",
       "      <td>...</td>\n",
       "      <td>...</td>\n",
       "      <td>...</td>\n",
       "      <td>...</td>\n",
       "      <td>...</td>\n",
       "      <td>...</td>\n",
       "      <td>...</td>\n",
       "      <td>...</td>\n",
       "      <td>...</td>\n",
       "      <td>...</td>\n",
       "      <td>...</td>\n",
       "      <td>...</td>\n",
       "      <td>...</td>\n",
       "      <td>...</td>\n",
       "      <td>...</td>\n",
       "      <td>...</td>\n",
       "      <td>...</td>\n",
       "      <td>...</td>\n",
       "      <td>...</td>\n",
       "      <td>...</td>\n",
       "    </tr>\n",
       "    <tr>\n",
       "      <th>269</th>\n",
       "      <td>F2</td>\n",
       "      <td>14/04/2025</td>\n",
       "      <td>19:45</td>\n",
       "      <td>Bastia</td>\n",
       "      <td>Laval</td>\n",
       "      <td>5</td>\n",
       "      <td>2</td>\n",
       "      <td>H</td>\n",
       "      <td>2</td>\n",
       "      <td>1</td>\n",
       "      <td>...</td>\n",
       "      <td>1.83</td>\n",
       "      <td>2.03</td>\n",
       "      <td>1.88</td>\n",
       "      <td>2.01</td>\n",
       "      <td>1.88</td>\n",
       "      <td>2.07</td>\n",
       "      <td>1.83</td>\n",
       "      <td>1.97</td>\n",
       "      <td>1.87</td>\n",
       "      <td>2.10</td>\n",
       "    </tr>\n",
       "    <tr>\n",
       "      <th>270</th>\n",
       "      <td>F2</td>\n",
       "      <td>18/04/2025</td>\n",
       "      <td>19:00</td>\n",
       "      <td>Ajaccio</td>\n",
       "      <td>Pau FC</td>\n",
       "      <td>1</td>\n",
       "      <td>1</td>\n",
       "      <td>D</td>\n",
       "      <td>0</td>\n",
       "      <td>1</td>\n",
       "      <td>...</td>\n",
       "      <td>2.10</td>\n",
       "      <td>1.78</td>\n",
       "      <td>2.16</td>\n",
       "      <td>1.75</td>\n",
       "      <td>2.16</td>\n",
       "      <td>1.79</td>\n",
       "      <td>2.10</td>\n",
       "      <td>1.74</td>\n",
       "      <td>2.22</td>\n",
       "      <td>1.79</td>\n",
       "    </tr>\n",
       "    <tr>\n",
       "      <th>271</th>\n",
       "      <td>F2</td>\n",
       "      <td>18/04/2025</td>\n",
       "      <td>19:00</td>\n",
       "      <td>Amiens</td>\n",
       "      <td>Guingamp</td>\n",
       "      <td>3</td>\n",
       "      <td>2</td>\n",
       "      <td>H</td>\n",
       "      <td>2</td>\n",
       "      <td>1</td>\n",
       "      <td>...</td>\n",
       "      <td>1.85</td>\n",
       "      <td>2.00</td>\n",
       "      <td>1.86</td>\n",
       "      <td>2.03</td>\n",
       "      <td>1.89</td>\n",
       "      <td>2.09</td>\n",
       "      <td>1.81</td>\n",
       "      <td>2.00</td>\n",
       "      <td>1.89</td>\n",
       "      <td>2.09</td>\n",
       "    </tr>\n",
       "    <tr>\n",
       "      <th>272</th>\n",
       "      <td>F2</td>\n",
       "      <td>18/04/2025</td>\n",
       "      <td>19:00</td>\n",
       "      <td>Caen</td>\n",
       "      <td>Martigues</td>\n",
       "      <td>0</td>\n",
       "      <td>3</td>\n",
       "      <td>A</td>\n",
       "      <td>0</td>\n",
       "      <td>2</td>\n",
       "      <td>...</td>\n",
       "      <td>1.93</td>\n",
       "      <td>1.93</td>\n",
       "      <td>1.95</td>\n",
       "      <td>1.93</td>\n",
       "      <td>1.96</td>\n",
       "      <td>1.98</td>\n",
       "      <td>1.91</td>\n",
       "      <td>1.90</td>\n",
       "      <td>1.92</td>\n",
       "      <td>2.03</td>\n",
       "    </tr>\n",
       "    <tr>\n",
       "      <th>273</th>\n",
       "      <td>F2</td>\n",
       "      <td>18/04/2025</td>\n",
       "      <td>19:00</td>\n",
       "      <td>Clermont</td>\n",
       "      <td>Troyes</td>\n",
       "      <td>0</td>\n",
       "      <td>2</td>\n",
       "      <td>A</td>\n",
       "      <td>0</td>\n",
       "      <td>1</td>\n",
       "      <td>...</td>\n",
       "      <td>1.98</td>\n",
       "      <td>1.88</td>\n",
       "      <td>2.00</td>\n",
       "      <td>1.89</td>\n",
       "      <td>2.00</td>\n",
       "      <td>1.95</td>\n",
       "      <td>1.92</td>\n",
       "      <td>1.89</td>\n",
       "      <td>2.01</td>\n",
       "      <td>1.96</td>\n",
       "    </tr>\n",
       "  </tbody>\n",
       "</table>\n",
       "<p>274 rows × 119 columns</p>\n",
       "</div>"
      ],
      "text/plain": [
       "    Div        Date   Time   HomeTeam   AwayTeam  FTHG  FTAG FTR  HTHG  HTAG  \\\n",
       "0    F2  16/08/2024  19:00    Ajaccio      Rodez     1     0   H     0     0   \n",
       "1    F2  16/08/2024  19:00     Amiens   Red Star     3     0   H     1     0   \n",
       "2    F2  16/08/2024  19:00   Clermont     Pau FC     2     2   D     1     2   \n",
       "3    F2  16/08/2024  19:00  Dunkerque     Annecy     0     2   A     0     0   \n",
       "4    F2  16/08/2024  19:00   Grenoble      Laval     2     1   H     0     0   \n",
       "..   ..         ...    ...        ...        ...   ...   ...  ..   ...   ...   \n",
       "269  F2  14/04/2025  19:45     Bastia      Laval     5     2   H     2     1   \n",
       "270  F2  18/04/2025  19:00    Ajaccio     Pau FC     1     1   D     0     1   \n",
       "271  F2  18/04/2025  19:00     Amiens   Guingamp     3     2   H     2     1   \n",
       "272  F2  18/04/2025  19:00       Caen  Martigues     0     3   A     0     2   \n",
       "273  F2  18/04/2025  19:00   Clermont     Troyes     0     2   A     0     1   \n",
       "\n",
       "     ... B365CAHH  B365CAHA  PCAHH  PCAHA  MaxCAHH  MaxCAHA  AvgCAHH  AvgCAHA  \\\n",
       "0    ...     1.93      1.93   1.97   1.92     2.02     1.96     1.96     1.89   \n",
       "1    ...     2.13      1.75   2.17   1.76     2.17     1.84     2.07     1.76   \n",
       "2    ...     1.83      2.03   1.86   2.03     1.89     2.10     1.80     2.02   \n",
       "3    ...     1.78      2.10   1.75   2.16     1.83     2.22     1.72     2.13   \n",
       "4    ...     2.00      1.85   2.01   1.88     2.02     1.92     1.97     1.84   \n",
       "..   ...      ...       ...    ...    ...      ...      ...      ...      ...   \n",
       "269  ...     1.83      2.03   1.88   2.01     1.88     2.07     1.83     1.97   \n",
       "270  ...     2.10      1.78   2.16   1.75     2.16     1.79     2.10     1.74   \n",
       "271  ...     1.85      2.00   1.86   2.03     1.89     2.09     1.81     2.00   \n",
       "272  ...     1.93      1.93   1.95   1.93     1.96     1.98     1.91     1.90   \n",
       "273  ...     1.98      1.88   2.00   1.89     2.00     1.95     1.92     1.89   \n",
       "\n",
       "     BFECAHH  BFECAHA  \n",
       "0       2.00     1.99  \n",
       "1       2.19     1.83  \n",
       "2       1.89     2.10  \n",
       "3       1.82     2.20  \n",
       "4       2.05     1.94  \n",
       "..       ...      ...  \n",
       "269     1.87     2.10  \n",
       "270     2.22     1.79  \n",
       "271     1.89     2.09  \n",
       "272     1.92     2.03  \n",
       "273     2.01     1.96  \n",
       "\n",
       "[274 rows x 119 columns]"
      ]
     },
     "execution_count": 52,
     "metadata": {},
     "output_type": "execute_result"
    }
   ],
   "source": [
    "dataset.head(-5)"
   ]
  },
  {
   "cell_type": "code",
   "execution_count": 53,
   "metadata": {},
   "outputs": [
    {
     "data": {
      "text/plain": [
       "array(['Ajaccio', 'Amiens', 'Clermont', 'Dunkerque', 'Grenoble',\n",
       "       'Guingamp', 'Caen', 'Martigues', 'Metz', 'Annecy', 'Bastia',\n",
       "       'Laval', 'Paris FC', 'Pau FC', 'Rodez', 'Troyes', 'Lorient',\n",
       "       'Red Star'], dtype=object)"
      ]
     },
     "execution_count": 53,
     "metadata": {},
     "output_type": "execute_result"
    }
   ],
   "source": [
    "dataset[\"HomeTeam\"].unique()"
   ]
  },
  {
   "cell_type": "code",
   "execution_count": 54,
   "metadata": {},
   "outputs": [],
   "source": [
    "model = Bayesian(n_teams=18, n_goals=15)"
   ]
  },
  {
   "cell_type": "code",
   "execution_count": 55,
   "metadata": {},
   "outputs": [
    {
     "name": "stderr",
     "output_type": "stream",
     "text": [
      "Initializing NUTS using jitter+adapt_diag...\n",
      "Multiprocess sampling (6 chains in 6 jobs)\n",
      "NUTS: [home, intercept, tau_att, raw_atts, tau_def, raw_defs]\n"
     ]
    },
    {
     "data": {
      "application/vnd.jupyter.widget-view+json": {
       "model_id": "ff85f2cf97c74baeb3676dd6897eaeca",
       "version_major": 2,
       "version_minor": 0
      },
      "text/plain": [
       "Output()"
      ]
     },
     "metadata": {},
     "output_type": "display_data"
    },
    {
     "data": {
      "text/html": [
       "<pre style=\"white-space:pre;overflow-x:auto;line-height:normal;font-family:Menlo,'DejaVu Sans Mono',consolas,'Courier New',monospace\"></pre>\n"
      ],
      "text/plain": []
     },
     "metadata": {},
     "output_type": "display_data"
    },
    {
     "name": "stderr",
     "output_type": "stream",
     "text": [
      "Sampling 6 chains for 500 tune and 2_000 draw iterations (3_000 + 12_000 draws total) took 9 seconds.\n",
      "There were 1 divergences after tuning. Increase `target_accept` or reparameterize.\n"
     ]
    }
   ],
   "source": [
    "model.fit(X_train=dataset)"
   ]
  },
  {
   "cell_type": "code",
   "execution_count": 58,
   "metadata": {},
   "outputs": [],
   "source": [
    "mapping_dict = {\n",
    "    'AC Ajaccio': 'Ajaccio',\n",
    "    'Amiens': 'Amiens',\n",
    "    'Clermont': 'Clermont',\n",
    "    'Dunkerque': 'Dunkerque',\n",
    "    'Grenoble': 'Grenoble',\n",
    "    'Guingamp': 'Guingamp',\n",
    "    'Caen': 'Caen',\n",
    "    'FC Martigues': 'Martigues',\n",
    "    'Metz': 'Metz',\n",
    "    'Annecy FC': 'Annecy',\n",
    "    'Bastia': 'Bastia',\n",
    "    'Laval': 'Laval',\n",
    "    'Paris FC': 'Paris FC',\n",
    "    'Pau': 'Pau FC',\n",
    "    'Rodez': 'Rodez',\n",
    "    'Troyes': 'Troyes',\n",
    "    'Lorient': 'Lorient',\n",
    "    'Red Star': 'Red Star'\n",
    "}\n"
   ]
  },
  {
   "cell_type": "code",
   "execution_count": 60,
   "metadata": {},
   "outputs": [
    {
     "name": "stdout",
     "output_type": "stream",
     "text": [
      "##################################################\n",
      "Guingamp                       FC Martigues                  \n",
      "  Probabilities: Home: 0.60, Draw: 0.21, Away: 0.19\n",
      "  Odds: Home: 0.71, Draw: 0.18, Away: 0.12\n",
      "##################################################\n",
      "##################################################\n",
      "Bastia                         Grenoble                      \n",
      "  Probabilities: Home: 0.51, Draw: 0.25, Away: 0.23\n",
      "  Odds: Home: 0.59, Draw: 0.24, Away: 0.17\n",
      "##################################################\n",
      "##################################################\n",
      "Troyes                         Dunkerque                     \n",
      "  Probabilities: Home: 0.35, Draw: 0.30, Away: 0.35\n",
      "  Odds: Home: 0.40, Draw: 0.29, Away: 0.31\n",
      "##################################################\n",
      "##################################################\n",
      "Laval                          Amiens                        \n",
      "  Probabilities: Home: 0.47, Draw: 0.27, Away: 0.27\n",
      "  Odds: Home: 0.51, Draw: 0.27, Away: 0.22\n",
      "##################################################\n",
      "##################################################\n",
      "Red Star                       Clermont                      \n",
      "  Probabilities: Home: 0.36, Draw: 0.29, Away: 0.34\n",
      "  Odds: Home: 0.49, Draw: 0.26, Away: 0.25\n",
      "##################################################\n",
      "##################################################\n",
      "Annecy FC                      AC Ajaccio                    \n",
      "  Probabilities: Home: 0.41, Draw: 0.29, Away: 0.30\n",
      "  Odds: Home: 0.43, Draw: 0.30, Away: 0.28\n",
      "##################################################\n",
      "##################################################\n",
      "Rodez                          Paris FC                      \n",
      "  Probabilities: Home: 0.45, Draw: 0.25, Away: 0.30\n",
      "  Odds: Home: 0.31, Draw: 0.27, Away: 0.42\n",
      "##################################################\n",
      "##################################################\n",
      "Pau                            Metz                          \n",
      "  Probabilities: Home: 0.30, Draw: 0.29, Away: 0.41\n",
      "  Odds: Home: 0.22, Draw: 0.25, Away: 0.53\n",
      "##################################################\n",
      "##################################################\n",
      "Lorient                        Caen                          \n",
      "  Probabilities: Home: 0.76, Draw: 0.14, Away: 0.10\n",
      "  Odds: Home: 0.77, Draw: 0.16, Away: 0.08\n",
      "##################################################\n"
     ]
    }
   ],
   "source": [
    "fixture = pd.read_csv(\"ligue2_24-04-2025.csv\")\n",
    "convert = True\n",
    "fixture = fixture.iloc[:9]\n",
    "# Assuming fixture and odds are already defined DataFrames\n",
    "proba_match = []\n",
    "list_odds = []\n",
    "list_samples = {}\n",
    "for idx, match in fixture.iterrows():\n",
    "    print(\"#\" * 50)\n",
    "    print(f\"{match['home_team']:<30} {match['away_team']:<30}\")\n",
    "    # Display probabilities from Poisson prediction\n",
    "    home_team = mapping_dict.get(match[\"home_team\"], match[\"home_team\"])\n",
    "    away_team = mapping_dict.get(match[\"away_team\"], match[\"away_team\"])\n",
    "\n",
    "    probas = model.predict(home_team=home_team, away_team=away_team).return_probas()\n",
    "    lambda_h, lambda_a = model.get_samples(home_team=home_team, away_team=away_team)\n",
    "    home_prob = probas[0]\n",
    "    draw_prob = probas[1]\n",
    "    away_prob = probas[2]\n",
    "    print(f\"  Probabilities: Home: {home_prob:.2f}, Draw: {draw_prob:.2f}, Away: {away_prob:.2f}\")\n",
    "    # Display odds from the function\n",
    "    odds_list = [match[\"H\"], match[\"D\"], match[\"A\"]]\n",
    "    proba_match.append(probas)\n",
    "    list_odds.append(OddsInput(home_team=match[\"home_team\"], away_team=match[\"away_team\"], odds=odds_list))\n",
    "    list_samples[list_odds[-1].match_id] = (lambda_h, lambda_a)\n",
    "\n",
    "    odds_result = odds.shin(odds=odds_list)[0]\n",
    "    print(f\"  Odds: Home: {odds_result[0]:.2f}, Draw: {odds_result[1]:.2f}, Away: {odds_result[2]:.2f}\")\n",
    "    print(\"#\" * 50)\n",
    "proba_match = np.asarray(proba_match)"
   ]
  },
  {
   "cell_type": "code",
   "execution_count": 61,
   "metadata": {},
   "outputs": [],
   "source": [
    "list_bet = simple_select_bets(odds_input=list_odds, probas=proba_match, single_bet_per_game=True, edge_floor=0.15)"
   ]
  },
  {
   "cell_type": "code",
   "execution_count": 62,
   "metadata": {},
   "outputs": [
    {
     "data": {
      "text/plain": [
       "[Bet(match_id='Guingamp - FC Martigues', market='A', odds=7.2, edge_mean=0.3862680466527022, prob_mean=0.1925372287017642, edge_std=None, prob_edge_pos=None, stake=None),\n",
       " Bet(match_id='Bastia - Grenoble', market='A', odds=5.2, edge_mean=0.22146989940231165, prob_mean=0.23489805757736762, edge_std=None, prob_edge_pos=None, stake=None),\n",
       " Bet(match_id='Red Star - Clermont', market='A', odds=3.65, edge_mean=0.25624883791361475, prob_mean=0.34417776381194926, edge_std=None, prob_edge_pos=None, stake=None),\n",
       " Bet(match_id='Rodez - Paris FC', market='H', odds=2.95, edge_mean=0.3373342143863767, prob_mean=0.4533336319953819, edge_std=None, prob_edge_pos=None, stake=None),\n",
       " Bet(match_id='Pau - Metz', market='H', odds=4.1, edge_mean=0.225257218658231, prob_mean=0.2988432240629832, edge_std=None, prob_edge_pos=None, stake=None)]"
      ]
     },
     "execution_count": 62,
     "metadata": {},
     "output_type": "execute_result"
    }
   ],
   "source": [
    "list_bet[:9]"
   ]
  },
  {
   "cell_type": "code",
   "execution_count": 63,
   "metadata": {},
   "outputs": [],
   "source": [
    "enhanced_list_bet = select_matches_posterior(odds_input=list_odds, lambda_samples = list_samples, edge_floor=0.1, prob_edge_threshold=0.7, single_bet_per_game=True)"
   ]
  },
  {
   "cell_type": "code",
   "execution_count": 64,
   "metadata": {},
   "outputs": [
    {
     "data": {
      "text/plain": [
       "[Bet(match_id='Guingamp - FC Martigues', market='A', odds=7.2, edge_mean=0.4147971590267324, prob_mean=0.1964996054203795, edge_std=0.447112360145378, prob_edge_pos=0.816, stake=None),\n",
       " Bet(match_id='Rodez - Paris FC', market='H', odds=2.95, edge_mean=0.3475090933698626, prob_mean=0.45678274351520765, edge_std=0.2852163463582172, prob_edge_pos=0.8885, stake=None),\n",
       " Bet(match_id='Red Star - Clermont', market='A', odds=3.65, edge_mean=0.2561424828445391, prob_mean=0.34414862543686, edge_std=0.2721221382494443, prob_edge_pos=0.8226666666666667, stake=None),\n",
       " Bet(match_id='Pau - Metz', market='H', odds=4.1, edge_mean=0.25548584409357866, prob_mean=0.3062160595350192, edge_std=0.3475483505361055, prob_edge_pos=0.75875, stake=None),\n",
       " Bet(match_id='Bastia - Grenoble', market='A', odds=5.2, edge_mean=0.23434221014949275, prob_mean=0.23737350195182555, edge_std=0.32937590555444957, prob_edge_pos=0.7481666666666666, stake=None)]"
      ]
     },
     "execution_count": 64,
     "metadata": {},
     "output_type": "execute_result"
    }
   ],
   "source": [
    "enhanced_list_bet"
   ]
  },
  {
   "cell_type": "code",
   "execution_count": 65,
   "metadata": {},
   "outputs": [
    {
     "data": {
      "application/vnd.jupyter.widget-view+json": {
       "model_id": "3f23e4a4b54e4f54b808a1e8422880fd",
       "version_major": 2,
       "version_minor": 0
      },
      "text/plain": [
       "  0%|          | 0/1000 [00:00<?, ?it/s]"
      ]
     },
     "metadata": {},
     "output_type": "display_data"
    },
    {
     "name": "stdout",
     "output_type": "stream",
     "text": [
      "\n",
      "2025-04-24 22:57:27- Optimization finished. Runtime --- 1.906 seconds ---\n",
      "\n",
      "Objective: -3.06299\n",
      "Certainty Equivalent: 21.391\n",
      "\n",
      "[Guingamp - FC Martigues | A] odds=7.20, edge=0.415, p=0.196, stake=1.00\n",
      "[Rodez - Paris FC | H] odds=2.95, edge=0.348, p=0.457, stake=3.00\n",
      "[Red Star - Clermont | A] odds=3.65, edge=0.256, p=0.344, stake=2.00\n",
      "[Pau - Metz | H] odds=4.10, edge=0.255, p=0.306, stake=1.00\n",
      "[Bastia - Grenoble | A] odds=5.20, edge=0.234, p=0.237, stake=1.00\n",
      "Bankroll used: 8.84 €\n"
     ]
    }
   ],
   "source": [
    "selected_bet = realKelly(enhanced_list_bet[:9], bankroll=20, max_multiple=1, early_stopping=False)"
   ]
  },
  {
   "cell_type": "code",
   "execution_count": 66,
   "metadata": {},
   "outputs": [],
   "source": [
    "import numpy as np\n",
    "class NumpyEncoder(json.JSONEncoder):\n",
    "    def default(self, obj):\n",
    "        if isinstance(obj, (np.integer, np.int_)):\n",
    "            return int(obj)\n",
    "        elif isinstance(obj, (np.floating, np.float_)):\n",
    "            return float(obj)\n",
    "        elif isinstance(obj, np.ndarray):\n",
    "            return obj.tolist()\n",
    "        return super().default(obj)"
   ]
  },
  {
   "cell_type": "code",
   "execution_count": 67,
   "metadata": {},
   "outputs": [],
   "source": [
    "bets_dict_list = [bet.to_dict() for bet in selected_bet]\n",
    "\n",
    "\n",
    "with open(\"bets.json\", \"w\") as f:\n",
    "    json.dump(bets_dict_list, f, indent=4, cls=NumpyEncoder)"
   ]
  },
  {
   "cell_type": "code",
   "execution_count": 68,
   "metadata": {},
   "outputs": [],
   "source": [
    "#pm.summary(model.trace)"
   ]
  },
  {
   "cell_type": "markdown",
   "metadata": {},
   "source": []
  },
  {
   "cell_type": "code",
   "execution_count": 69,
   "metadata": {},
   "outputs": [],
   "source": [
    "from scipy.stats import skellam\n",
    "def _skellam_post_probs(\n",
    "    lh: np.ndarray, la: np.ndarray\n",
    ") -> tuple[np.ndarray, np.ndarray, np.ndarray]:\n",
    "    \"\"\"Probabilités a posteriori (vecteurs) : home‑win, draw, away‑win pour des échantillons\n",
    "    λ_home, λ_away de même longueur.\"\"\"\n",
    "    p_home = 1 - skellam.cdf(0, lh, la)  # P(diff > 0)\n",
    "    p_draw = skellam.pmf(0, lh, la)  # P(diff = 0)\n",
    "    p_away = skellam.cdf(-1, lh, la)  # P(diff < 0)\n",
    "    return p_home, p_draw, p_away\n"
   ]
  },
  {
   "cell_type": "code",
   "execution_count": 84,
   "metadata": {},
   "outputs": [],
   "source": [
    "def bayesian_kelly(\n",
    "        list_bet: list[Bet],               # shape (J,)   : cotes décimales du bookmaker\n",
    "        lambda_samples: dict[str, tuple[np.ndarray, np.ndarray]],          # shape (K, J) : échantillon posterior des probabilités\n",
    "        bankroll: float=100,       # capital initial (1 = 100 %)\n",
    "        summary: Literal[\"mean\", \"quantile\"] =\"quantile\", # \"mean\" ou \"quantile\"\n",
    "        alpha: float=0.3,          # si summary==\"quantile\"\n",
    "        global_fraction: float=0.5,# λ (½‑Kelly global)\n",
    "        per_bet_cap: float =0.90,   # plafond f_j max\n",
    "    ):\n",
    "    \"\"\"\n",
    "    Renvoie les fractions de bankroll à miser sur chacun des J matchs.\n",
    "    Les négatives sont tronquées à 0 (on ignore les edges négatifs).\n",
    "    \"\"\"\n",
    "    mapping_match = {\"H\":0, \"D\":1, \"A\": 2}\n",
    "    bets_w_stake = []\n",
    "    for bet in list_bet:\n",
    "        # (b)  Kelly instantané pour chaque tirage\n",
    "        lambda_h, lambda_a = lambda_samples[bet.match_id]\n",
    "        probas = _skellam_post_probs(lh=lambda_h, la=lambda_a)\n",
    "        p_samples = probas[mapping_match[bet.market]]\n",
    "        X = bet.odds - 1.0                               # gain unitaire si victoire\n",
    "        f_kelly = (p_samples * bet.odds - (1 - p_samples)) / X   # shape (K, J)\n",
    "\n",
    "        f_kelly = np.clip(f_kelly, 0.0, None)        # on ne short pas\n",
    "\n",
    "        # (c)  Résumé prudent\n",
    "        if summary == \"mean\":\n",
    "            f_base = f_kelly.mean(axis=0)\n",
    "        elif summary == \"quantile\":\n",
    "            f_base = np.quantile(f_kelly, alpha, axis=0)\n",
    "        else:\n",
    "            raise ValueError(\"summary must be 'mean' or 'quantile'\")\n",
    "\n",
    "        # (d)  Application du facteur global λ\n",
    "        f = global_fraction * f_base\n",
    "\n",
    "        # (e)  Contraintes pratiques\n",
    "        f = np.minimum(f, per_bet_cap)               # plafond par match\n",
    "\n",
    "        # Mise absolue si bankroll différent de 1\n",
    "        stake = bankroll * f\n",
    "        if stake >0.:\n",
    "            tmp_bet = bet\n",
    "            tmp_bet.stake = int(round(stake, 0))\n",
    "            bets_w_stake.append(tmp_bet)\n",
    "\n",
    "    sum_stake = 0\n",
    "    possible_return = 0\n",
    "    for bet in bets_w_stake:\n",
    "        print(f\"{bet}\")\n",
    "        sum_stake += bet.stake\n",
    "        possible_return += bet.odds*bet.stake\n",
    "    print(f\"Bankroll used: {sum_stake:.2f} €\")\n",
    "    print(f\"Possible return: {possible_return:.2f} €\")\n",
    "    return bets_w_stake\n"
   ]
  },
  {
   "cell_type": "code",
   "execution_count": null,
   "metadata": {},
   "outputs": [],
   "source": [
    "\n",
    "def kelly_shrinkage(\n",
    "    list_bet,\n",
    "    lambda_samples,\n",
    "    per_bet_cap=0.10,\n",
    "    bankroll_cap=0.30,\n",
    "    bankroll=100,\n",
    "    lambda_global=0.25,          # <- ¼-Kelly by default\n",
    "):\n",
    "    mapping_match = {\"H\": 0, \"D\": 1, \"A\": 2}\n",
    "    bets_w_stake = []\n",
    "\n",
    "    for bet in list_bet:\n",
    "        λh, λa = lambda_samples[bet.match_id]\n",
    "        probs  = _skellam_post_probs(λh, λa)                    # shape (K,3) or (3,)\n",
    "        p      = probs[mapping_match[bet.market]]\n",
    "\n",
    "        # --- posterior mean & variance across samples -------------\n",
    "        mu  = p.mean(0)                                          # scalar for that market\n",
    "        var = p.var(0, ddof=1)\n",
    "\n",
    "        # guard against var=0                                   ← prevents s=1 always\n",
    "        if var == 0:\n",
    "            var = 1e-9\n",
    "\n",
    "        shrink = mu * (1-mu) / (mu*(1-mu) + var)                # s ∈ (0,1]\n",
    "\n",
    "        # --- fractional-Kelly ------------------------------------\n",
    "        b     = bet.odds - 1.0\n",
    "        full  = (mu * bet.odds - (1 - mu)) / b                  # f⋆\n",
    "        f     = lambda_global * shrink * full                   # λ-Kelly with shrink\n",
    "\n",
    "        f     = np.clip(f, 0.0, per_bet_cap)                    # single-bet cap\n",
    "        # bankroll-wide cap (if you really need it)\n",
    "        # (collect f’s, rescale once outside the loop for clarity)\n",
    "\n",
    "        stake = bankroll * f\n",
    "        if stake > 0:\n",
    "            bet.stake = int(round(stake))\n",
    "            bets_w_stake.append(bet)\n",
    "\n",
    "    # optional: rescale all stakes here if Σf > bankroll_cap\n",
    "    total_fraction = sum(b.stake for b in bets_w_stake) / bankroll\n",
    "    if total_fraction > bankroll_cap:\n",
    "        scale = bankroll_cap / total_fraction\n",
    "        for bet in bets_w_stake:\n",
    "            bet.stake = int(round(bet.stake * scale))\n",
    "    sum_stake = 0\n",
    "    possible_return = 0\n",
    "    for bet in bets_w_stake:\n",
    "        print(f\"{bet}\")\n",
    "        sum_stake += bet.stake\n",
    "        possible_return += bet.odds*bet.stake\n",
    "    print(f\"Bankroll used: {sum_stake:.2f} €\")\n",
    "    print(f\"Possible return: {possible_return:.2f} €\")\n",
    "    return bets_w_stake        # fractions et mises absolues"
   ]
  },
  {
   "cell_type": "markdown",
   "metadata": {},
   "source": []
  },
  {
   "cell_type": "code",
   "execution_count": 87,
   "metadata": {},
   "outputs": [
    {
     "name": "stdout",
     "output_type": "stream",
     "text": [
      "[Guingamp - FC Martigues | A] odds=7.20, edge=0.415, p=0.196, stake=2.00\n",
      "[Rodez - Paris FC | H] odds=2.95, edge=0.348, p=0.457, stake=8.00\n",
      "[Red Star - Clermont | A] odds=3.65, edge=0.256, p=0.344, stake=5.00\n",
      "[Pau - Metz | H] odds=4.10, edge=0.255, p=0.306, stake=4.00\n",
      "[Bastia - Grenoble | A] odds=5.20, edge=0.234, p=0.237, stake=2.00\n",
      "Bankroll used: 21.00 €\n",
      "Possible return: 83.05 €\n"
     ]
    },
    {
     "data": {
      "text/plain": [
       "[Bet(match_id='Guingamp - FC Martigues', market='A', odds=7.2, edge_mean=0.4147971590267324, prob_mean=0.1964996054203795, edge_std=0.447112360145378, prob_edge_pos=0.816, stake=2),\n",
       " Bet(match_id='Rodez - Paris FC', market='H', odds=2.95, edge_mean=0.3475090933698626, prob_mean=0.45678274351520765, edge_std=0.2852163463582172, prob_edge_pos=0.8885, stake=8),\n",
       " Bet(match_id='Red Star - Clermont', market='A', odds=3.65, edge_mean=0.2561424828445391, prob_mean=0.34414862543686, edge_std=0.2721221382494443, prob_edge_pos=0.8226666666666667, stake=5),\n",
       " Bet(match_id='Pau - Metz', market='H', odds=4.1, edge_mean=0.25548584409357866, prob_mean=0.3062160595350192, edge_std=0.3475483505361055, prob_edge_pos=0.75875, stake=4),\n",
       " Bet(match_id='Bastia - Grenoble', market='A', odds=5.2, edge_mean=0.23434221014949275, prob_mean=0.23737350195182555, edge_std=0.32937590555444957, prob_edge_pos=0.7481666666666666, stake=2)]"
      ]
     },
     "execution_count": 87,
     "metadata": {},
     "output_type": "execute_result"
    }
   ],
   "source": [
    "bayesian_kelly(list_bet=enhanced_list_bet, lambda_samples=list_samples, bankroll=20, summary=\"mean\", global_fraction=1.)"
   ]
  },
  {
   "cell_type": "code",
   "execution_count": 88,
   "metadata": {},
   "outputs": [
    {
     "name": "stdout",
     "output_type": "stream",
     "text": [
      "1.924910619298012\n",
      "2.0\n",
      "2.0\n",
      "2.0\n",
      "2.0\n",
      "[Guingamp - FC Martigues | A] odds=7.20, edge=0.415, p=0.196, stake=2.00\n",
      "[Rodez - Paris FC | H] odds=2.95, edge=0.348, p=0.457, stake=2.00\n",
      "[Red Star - Clermont | A] odds=3.65, edge=0.256, p=0.344, stake=2.00\n",
      "[Pau - Metz | H] odds=4.10, edge=0.255, p=0.306, stake=2.00\n",
      "[Bastia - Grenoble | A] odds=5.20, edge=0.234, p=0.237, stake=2.00\n",
      "Bankroll used: 10.00 €\n",
      "Possible return: 46.20 €\n"
     ]
    },
    {
     "data": {
      "text/plain": [
       "[Bet(match_id='Guingamp - FC Martigues', market='A', odds=7.2, edge_mean=0.4147971590267324, prob_mean=0.1964996054203795, edge_std=0.447112360145378, prob_edge_pos=0.816, stake=2),\n",
       " Bet(match_id='Rodez - Paris FC', market='H', odds=2.95, edge_mean=0.3475090933698626, prob_mean=0.45678274351520765, edge_std=0.2852163463582172, prob_edge_pos=0.8885, stake=2),\n",
       " Bet(match_id='Red Star - Clermont', market='A', odds=3.65, edge_mean=0.2561424828445391, prob_mean=0.34414862543686, edge_std=0.2721221382494443, prob_edge_pos=0.8226666666666667, stake=2),\n",
       " Bet(match_id='Pau - Metz', market='H', odds=4.1, edge_mean=0.25548584409357866, prob_mean=0.3062160595350192, edge_std=0.3475483505361055, prob_edge_pos=0.75875, stake=2),\n",
       " Bet(match_id='Bastia - Grenoble', market='A', odds=5.2, edge_mean=0.23434221014949275, prob_mean=0.23737350195182555, edge_std=0.32937590555444957, prob_edge_pos=0.7481666666666666, stake=2)]"
      ]
     },
     "execution_count": 88,
     "metadata": {},
     "output_type": "execute_result"
    }
   ],
   "source": [
    "kelly_shrinkage(list_bet=enhanced_list_bet, lambda_samples=list_samples, bankroll=20)"
   ]
  },
  {
   "cell_type": "code",
   "execution_count": null,
   "metadata": {},
   "outputs": [],
   "source": []
  },
  {
   "cell_type": "code",
   "execution_count": null,
   "metadata": {},
   "outputs": [],
   "source": []
  },
  {
   "cell_type": "code",
   "execution_count": null,
   "metadata": {},
   "outputs": [],
   "source": []
  }
 ],
 "metadata": {
  "kernelspec": {
   "display_name": "footix",
   "language": "python",
   "name": "python3"
  },
  "language_info": {
   "codemirror_mode": {
    "name": "ipython",
    "version": 3
   },
   "file_extension": ".py",
   "mimetype": "text/x-python",
   "name": "python",
   "nbconvert_exporter": "python",
   "pygments_lexer": "ipython3",
   "version": "3.12.8"
  }
 },
 "nbformat": 4,
 "nbformat_minor": 2
}
