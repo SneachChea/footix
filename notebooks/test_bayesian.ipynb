{
 "cells": [
  {
   "cell_type": "code",
   "execution_count": 1,
   "metadata": {},
   "outputs": [],
   "source": [
    "import pandas as pd\n",
    "from footix.models.bayesian import Bayesian\n",
    "import footix.implied_odds as odds\n",
    "import numpy as np\n",
    "from footix.data_io.footballdata import ScrapFootballData\n",
    "from footix.strategy.kelly_strategies import kelly_portfolio_torch, kelly_shrinkage, bayesian_kelly, realKelly\n",
    "from footix.strategy.portfolio_management import optimise_portfolio_torch\n",
    "from footix.strategy.bets import OddsInput, Bet\n",
    "from typing import Literal\n",
    "from footix.strategy.select_bets import simple_select_bets, select_matches_posterior\n",
    "import json"
   ]
  },
  {
   "cell_type": "code",
   "execution_count": 2,
   "metadata": {},
   "outputs": [],
   "source": [
    "dataset = ScrapFootballData(competition=\"FRA Ligue 1\", season=\"2024-2025\", path =\"./data\", force_reload=True).get_fixtures()"
   ]
  },
  {
   "cell_type": "code",
   "execution_count": 3,
   "metadata": {},
   "outputs": [
    {
     "data": {
      "text/html": [
       "<div>\n",
       "<style scoped>\n",
       "    .dataframe tbody tr th:only-of-type {\n",
       "        vertical-align: middle;\n",
       "    }\n",
       "\n",
       "    .dataframe tbody tr th {\n",
       "        vertical-align: top;\n",
       "    }\n",
       "\n",
       "    .dataframe thead th {\n",
       "        text-align: right;\n",
       "    }\n",
       "</style>\n",
       "<table border=\"1\" class=\"dataframe\">\n",
       "  <thead>\n",
       "    <tr style=\"text-align: right;\">\n",
       "      <th></th>\n",
       "      <th>div</th>\n",
       "      <th>date</th>\n",
       "      <th>time</th>\n",
       "      <th>home_team</th>\n",
       "      <th>away_team</th>\n",
       "      <th>fthg</th>\n",
       "      <th>ftag</th>\n",
       "      <th>ftr</th>\n",
       "      <th>hthg</th>\n",
       "      <th>htag</th>\n",
       "      <th>...</th>\n",
       "      <th>b365_caha</th>\n",
       "      <th>pcahh</th>\n",
       "      <th>pcaha</th>\n",
       "      <th>max_cahh</th>\n",
       "      <th>max_caha</th>\n",
       "      <th>avg_cahh</th>\n",
       "      <th>avg_caha</th>\n",
       "      <th>bfecahh</th>\n",
       "      <th>bfecaha</th>\n",
       "      <th>match_id</th>\n",
       "    </tr>\n",
       "  </thead>\n",
       "  <tbody>\n",
       "    <tr>\n",
       "      <th>0</th>\n",
       "      <td>F1</td>\n",
       "      <td>16/08/2024</td>\n",
       "      <td>19:45</td>\n",
       "      <td>Le Havre</td>\n",
       "      <td>Paris SG</td>\n",
       "      <td>1</td>\n",
       "      <td>4</td>\n",
       "      <td>A</td>\n",
       "      <td>0</td>\n",
       "      <td>1</td>\n",
       "      <td>...</td>\n",
       "      <td>2.00</td>\n",
       "      <td>1.95</td>\n",
       "      <td>1.97</td>\n",
       "      <td>1.95</td>\n",
       "      <td>2.02</td>\n",
       "      <td>1.89</td>\n",
       "      <td>1.95</td>\n",
       "      <td>1.95</td>\n",
       "      <td>2.02</td>\n",
       "      <td>Le Havre - Paris SG - 16/08/2024</td>\n",
       "    </tr>\n",
       "    <tr>\n",
       "      <th>1</th>\n",
       "      <td>F1</td>\n",
       "      <td>17/08/2024</td>\n",
       "      <td>16:00</td>\n",
       "      <td>Brest</td>\n",
       "      <td>Marseille</td>\n",
       "      <td>1</td>\n",
       "      <td>5</td>\n",
       "      <td>A</td>\n",
       "      <td>1</td>\n",
       "      <td>3</td>\n",
       "      <td>...</td>\n",
       "      <td>2.04</td>\n",
       "      <td>1.91</td>\n",
       "      <td>2.02</td>\n",
       "      <td>1.91</td>\n",
       "      <td>2.08</td>\n",
       "      <td>1.85</td>\n",
       "      <td>2.01</td>\n",
       "      <td>1.90</td>\n",
       "      <td>2.09</td>\n",
       "      <td>Brest - Marseille - 17/08/2024</td>\n",
       "    </tr>\n",
       "    <tr>\n",
       "      <th>2</th>\n",
       "      <td>F1</td>\n",
       "      <td>17/08/2024</td>\n",
       "      <td>18:00</td>\n",
       "      <td>Reims</td>\n",
       "      <td>Lille</td>\n",
       "      <td>0</td>\n",
       "      <td>2</td>\n",
       "      <td>A</td>\n",
       "      <td>0</td>\n",
       "      <td>1</td>\n",
       "      <td>...</td>\n",
       "      <td>1.70</td>\n",
       "      <td>2.14</td>\n",
       "      <td>1.81</td>\n",
       "      <td>2.14</td>\n",
       "      <td>1.85</td>\n",
       "      <td>2.07</td>\n",
       "      <td>1.80</td>\n",
       "      <td>2.13</td>\n",
       "      <td>1.86</td>\n",
       "      <td>Reims - Lille - 17/08/2024</td>\n",
       "    </tr>\n",
       "    <tr>\n",
       "      <th>3</th>\n",
       "      <td>F1</td>\n",
       "      <td>17/08/2024</td>\n",
       "      <td>20:00</td>\n",
       "      <td>Monaco</td>\n",
       "      <td>St Etienne</td>\n",
       "      <td>1</td>\n",
       "      <td>0</td>\n",
       "      <td>H</td>\n",
       "      <td>1</td>\n",
       "      <td>0</td>\n",
       "      <td>...</td>\n",
       "      <td>1.93</td>\n",
       "      <td>2.00</td>\n",
       "      <td>1.93</td>\n",
       "      <td>2.00</td>\n",
       "      <td>2.01</td>\n",
       "      <td>1.95</td>\n",
       "      <td>1.91</td>\n",
       "      <td>1.95</td>\n",
       "      <td>2.00</td>\n",
       "      <td>Monaco - St Etienne - 17/08/2024</td>\n",
       "    </tr>\n",
       "    <tr>\n",
       "      <th>4</th>\n",
       "      <td>F1</td>\n",
       "      <td>18/08/2024</td>\n",
       "      <td>14:00</td>\n",
       "      <td>Auxerre</td>\n",
       "      <td>Nice</td>\n",
       "      <td>2</td>\n",
       "      <td>1</td>\n",
       "      <td>H</td>\n",
       "      <td>1</td>\n",
       "      <td>1</td>\n",
       "      <td>...</td>\n",
       "      <td>2.11</td>\n",
       "      <td>1.82</td>\n",
       "      <td>2.13</td>\n",
       "      <td>1.83</td>\n",
       "      <td>2.17</td>\n",
       "      <td>1.77</td>\n",
       "      <td>2.10</td>\n",
       "      <td>1.84</td>\n",
       "      <td>2.16</td>\n",
       "      <td>Auxerre - Nice - 18/08/2024</td>\n",
       "    </tr>\n",
       "    <tr>\n",
       "      <th>...</th>\n",
       "      <td>...</td>\n",
       "      <td>...</td>\n",
       "      <td>...</td>\n",
       "      <td>...</td>\n",
       "      <td>...</td>\n",
       "      <td>...</td>\n",
       "      <td>...</td>\n",
       "      <td>...</td>\n",
       "      <td>...</td>\n",
       "      <td>...</td>\n",
       "      <td>...</td>\n",
       "      <td>...</td>\n",
       "      <td>...</td>\n",
       "      <td>...</td>\n",
       "      <td>...</td>\n",
       "      <td>...</td>\n",
       "      <td>...</td>\n",
       "      <td>...</td>\n",
       "      <td>...</td>\n",
       "      <td>...</td>\n",
       "      <td>...</td>\n",
       "    </tr>\n",
       "    <tr>\n",
       "      <th>300</th>\n",
       "      <td>F1</td>\n",
       "      <td>17/05/2025</td>\n",
       "      <td>20:00</td>\n",
       "      <td>Marseille</td>\n",
       "      <td>Rennes</td>\n",
       "      <td>4</td>\n",
       "      <td>2</td>\n",
       "      <td>H</td>\n",
       "      <td>3</td>\n",
       "      <td>1</td>\n",
       "      <td>...</td>\n",
       "      <td>1.93</td>\n",
       "      <td>1.96</td>\n",
       "      <td>1.96</td>\n",
       "      <td>2.02</td>\n",
       "      <td>1.97</td>\n",
       "      <td>1.95</td>\n",
       "      <td>1.89</td>\n",
       "      <td>2.05</td>\n",
       "      <td>1.91</td>\n",
       "      <td>Marseille - Rennes - 17/05/2025</td>\n",
       "    </tr>\n",
       "    <tr>\n",
       "      <th>301</th>\n",
       "      <td>F1</td>\n",
       "      <td>17/05/2025</td>\n",
       "      <td>20:00</td>\n",
       "      <td>Nantes</td>\n",
       "      <td>Montpellier</td>\n",
       "      <td>3</td>\n",
       "      <td>0</td>\n",
       "      <td>H</td>\n",
       "      <td>2</td>\n",
       "      <td>0</td>\n",
       "      <td>...</td>\n",
       "      <td>1.95</td>\n",
       "      <td>1.96</td>\n",
       "      <td>1.96</td>\n",
       "      <td>1.96</td>\n",
       "      <td>2.01</td>\n",
       "      <td>1.92</td>\n",
       "      <td>1.93</td>\n",
       "      <td>1.98</td>\n",
       "      <td>1.97</td>\n",
       "      <td>Nantes - Montpellier - 17/05/2025</td>\n",
       "    </tr>\n",
       "    <tr>\n",
       "      <th>302</th>\n",
       "      <td>F1</td>\n",
       "      <td>17/05/2025</td>\n",
       "      <td>20:00</td>\n",
       "      <td>Nice</td>\n",
       "      <td>Brest</td>\n",
       "      <td>6</td>\n",
       "      <td>0</td>\n",
       "      <td>H</td>\n",
       "      <td>3</td>\n",
       "      <td>0</td>\n",
       "      <td>...</td>\n",
       "      <td>2.05</td>\n",
       "      <td>1.80</td>\n",
       "      <td>2.11</td>\n",
       "      <td>1.83</td>\n",
       "      <td>2.11</td>\n",
       "      <td>1.80</td>\n",
       "      <td>2.05</td>\n",
       "      <td>1.82</td>\n",
       "      <td>2.18</td>\n",
       "      <td>Nice - Brest - 17/05/2025</td>\n",
       "    </tr>\n",
       "    <tr>\n",
       "      <th>303</th>\n",
       "      <td>F1</td>\n",
       "      <td>17/05/2025</td>\n",
       "      <td>20:00</td>\n",
       "      <td>Paris SG</td>\n",
       "      <td>Auxerre</td>\n",
       "      <td>3</td>\n",
       "      <td>1</td>\n",
       "      <td>H</td>\n",
       "      <td>0</td>\n",
       "      <td>1</td>\n",
       "      <td>...</td>\n",
       "      <td>2.03</td>\n",
       "      <td>2.00</td>\n",
       "      <td>1.91</td>\n",
       "      <td>2.00</td>\n",
       "      <td>2.03</td>\n",
       "      <td>1.90</td>\n",
       "      <td>1.94</td>\n",
       "      <td>2.00</td>\n",
       "      <td>1.98</td>\n",
       "      <td>Paris SG - Auxerre - 17/05/2025</td>\n",
       "    </tr>\n",
       "    <tr>\n",
       "      <th>304</th>\n",
       "      <td>F1</td>\n",
       "      <td>17/05/2025</td>\n",
       "      <td>20:00</td>\n",
       "      <td>St Etienne</td>\n",
       "      <td>Toulouse</td>\n",
       "      <td>2</td>\n",
       "      <td>3</td>\n",
       "      <td>A</td>\n",
       "      <td>1</td>\n",
       "      <td>2</td>\n",
       "      <td>...</td>\n",
       "      <td>1.80</td>\n",
       "      <td>2.14</td>\n",
       "      <td>1.78</td>\n",
       "      <td>2.14</td>\n",
       "      <td>1.87</td>\n",
       "      <td>2.03</td>\n",
       "      <td>1.81</td>\n",
       "      <td>2.12</td>\n",
       "      <td>1.87</td>\n",
       "      <td>St Etienne - Toulouse - 17/05/2025</td>\n",
       "    </tr>\n",
       "  </tbody>\n",
       "</table>\n",
       "<p>305 rows × 120 columns</p>\n",
       "</div>"
      ],
      "text/plain": [
       "    div        date   time   home_team    away_team  fthg  ftag ftr  hthg  \\\n",
       "0    F1  16/08/2024  19:45    Le Havre     Paris SG     1     4   A     0   \n",
       "1    F1  17/08/2024  16:00       Brest    Marseille     1     5   A     1   \n",
       "2    F1  17/08/2024  18:00       Reims        Lille     0     2   A     0   \n",
       "3    F1  17/08/2024  20:00      Monaco   St Etienne     1     0   H     1   \n",
       "4    F1  18/08/2024  14:00     Auxerre         Nice     2     1   H     1   \n",
       "..   ..         ...    ...         ...          ...   ...   ...  ..   ...   \n",
       "300  F1  17/05/2025  20:00   Marseille       Rennes     4     2   H     3   \n",
       "301  F1  17/05/2025  20:00      Nantes  Montpellier     3     0   H     2   \n",
       "302  F1  17/05/2025  20:00        Nice        Brest     6     0   H     3   \n",
       "303  F1  17/05/2025  20:00    Paris SG      Auxerre     3     1   H     0   \n",
       "304  F1  17/05/2025  20:00  St Etienne     Toulouse     2     3   A     1   \n",
       "\n",
       "     htag  ... b365_caha  pcahh  pcaha  max_cahh  max_caha  avg_cahh  \\\n",
       "0       1  ...      2.00   1.95   1.97      1.95      2.02      1.89   \n",
       "1       3  ...      2.04   1.91   2.02      1.91      2.08      1.85   \n",
       "2       1  ...      1.70   2.14   1.81      2.14      1.85      2.07   \n",
       "3       0  ...      1.93   2.00   1.93      2.00      2.01      1.95   \n",
       "4       1  ...      2.11   1.82   2.13      1.83      2.17      1.77   \n",
       "..    ...  ...       ...    ...    ...       ...       ...       ...   \n",
       "300     1  ...      1.93   1.96   1.96      2.02      1.97      1.95   \n",
       "301     0  ...      1.95   1.96   1.96      1.96      2.01      1.92   \n",
       "302     0  ...      2.05   1.80   2.11      1.83      2.11      1.80   \n",
       "303     1  ...      2.03   2.00   1.91      2.00      2.03      1.90   \n",
       "304     2  ...      1.80   2.14   1.78      2.14      1.87      2.03   \n",
       "\n",
       "     avg_caha  bfecahh  bfecaha                            match_id  \n",
       "0        1.95     1.95     2.02    Le Havre - Paris SG - 16/08/2024  \n",
       "1        2.01     1.90     2.09      Brest - Marseille - 17/08/2024  \n",
       "2        1.80     2.13     1.86          Reims - Lille - 17/08/2024  \n",
       "3        1.91     1.95     2.00    Monaco - St Etienne - 17/08/2024  \n",
       "4        2.10     1.84     2.16         Auxerre - Nice - 18/08/2024  \n",
       "..        ...      ...      ...                                 ...  \n",
       "300      1.89     2.05     1.91     Marseille - Rennes - 17/05/2025  \n",
       "301      1.93     1.98     1.97   Nantes - Montpellier - 17/05/2025  \n",
       "302      2.05     1.82     2.18           Nice - Brest - 17/05/2025  \n",
       "303      1.94     2.00     1.98     Paris SG - Auxerre - 17/05/2025  \n",
       "304      1.81     2.12     1.87  St Etienne - Toulouse - 17/05/2025  \n",
       "\n",
       "[305 rows x 120 columns]"
      ]
     },
     "execution_count": 3,
     "metadata": {},
     "output_type": "execute_result"
    }
   ],
   "source": [
    "dataset.head(-1)"
   ]
  },
  {
   "cell_type": "code",
   "execution_count": 4,
   "metadata": {},
   "outputs": [
    {
     "data": {
      "text/plain": [
       "array(['Le Havre', 'Brest', 'Reims', 'Monaco', 'Auxerre', 'Angers',\n",
       "       'Montpellier', 'Toulouse', 'Rennes', 'Paris SG', 'Lyon', 'Lille',\n",
       "       'St Etienne', 'Lens', 'Nantes', 'Nice', 'Strasbourg', 'Marseille'],\n",
       "      dtype=object)"
      ]
     },
     "execution_count": 4,
     "metadata": {},
     "output_type": "execute_result"
    }
   ],
   "source": [
    "dataset[\"home_team\"].unique()"
   ]
  },
  {
   "cell_type": "code",
   "execution_count": 5,
   "metadata": {},
   "outputs": [],
   "source": [
    "model = Bayesian(n_teams=18, n_goals=20)"
   ]
  },
  {
   "cell_type": "code",
   "execution_count": 7,
   "metadata": {},
   "outputs": [
    {
     "data": {
      "application/vnd.jupyter.widget-view+json": {
       "model_id": "6596b0a86abb4c0f9cdcb4e6f880d80a",
       "version_major": 2,
       "version_minor": 0
      },
      "text/plain": [
       "  0%|          | 0/3000 [00:00<?, ?it/s]"
      ]
     },
     "metadata": {},
     "output_type": "display_data"
    },
    {
     "data": {
      "application/vnd.jupyter.widget-view+json": {
       "model_id": "5a3a8331701d42efb54f2cfc57130a9d",
       "version_major": 2,
       "version_minor": 0
      },
      "text/plain": [
       "  0%|          | 0/3000 [00:00<?, ?it/s]"
      ]
     },
     "metadata": {},
     "output_type": "display_data"
    },
    {
     "data": {
      "application/vnd.jupyter.widget-view+json": {
       "model_id": "028ebeea206d4a8f975cd2450deb572e",
       "version_major": 2,
       "version_minor": 0
      },
      "text/plain": [
       "  0%|          | 0/3000 [00:00<?, ?it/s]"
      ]
     },
     "metadata": {},
     "output_type": "display_data"
    },
    {
     "data": {
      "application/vnd.jupyter.widget-view+json": {
       "model_id": "4496ec3f3d4d48ada0d94b8c64276494",
       "version_major": 2,
       "version_minor": 0
      },
      "text/plain": [
       "  0%|          | 0/3000 [00:00<?, ?it/s]"
      ]
     },
     "metadata": {},
     "output_type": "display_data"
    },
    {
     "data": {
      "application/vnd.jupyter.widget-view+json": {
       "model_id": "27e61c2dc6304b9bbb1fc94616c6c170",
       "version_major": 2,
       "version_minor": 0
      },
      "text/plain": [
       "  0%|          | 0/3000 [00:00<?, ?it/s]"
      ]
     },
     "metadata": {},
     "output_type": "display_data"
    },
    {
     "data": {
      "application/vnd.jupyter.widget-view+json": {
       "model_id": "7ebaa6241ae148e4b39bb8ab5215e18d",
       "version_major": 2,
       "version_minor": 0
      },
      "text/plain": [
       "  0%|          | 0/3000 [00:00<?, ?it/s]"
      ]
     },
     "metadata": {},
     "output_type": "display_data"
    }
   ],
   "source": [
    "dataset = dataset.iloc[:-9]\n",
    "model.fit(X_train=dataset)"
   ]
  },
  {
   "cell_type": "code",
   "execution_count": 8,
   "metadata": {},
   "outputs": [],
   "source": [
    "mapping_dict = {\n",
    "    'AC Ajaccio': 'Ajaccio',\n",
    "    'Amiens': 'Amiens',\n",
    "    'Clermont': 'Clermont',\n",
    "    'Dunkerque': 'Dunkerque',\n",
    "    'Grenoble': 'Grenoble',\n",
    "    'Guingamp': 'Guingamp',\n",
    "    'Caen': 'Caen',\n",
    "    'FC Martigues': 'Martigues',\n",
    "    'Metz': 'Metz',\n",
    "    'Annecy FC': 'Annecy',\n",
    "    'Bastia': 'Bastia',\n",
    "    'Laval': 'Laval',\n",
    "    'Paris FC': 'Paris FC',\n",
    "    'Pau': 'Pau FC',\n",
    "    'Rodez': 'Rodez',\n",
    "    'Troyes': 'Troyes',\n",
    "    'Lorient': 'Lorient',\n",
    "    'Red Star': 'Red Star'\n",
    "}\n"
   ]
  },
  {
   "cell_type": "code",
   "execution_count": 9,
   "metadata": {},
   "outputs": [
    {
     "name": "stdout",
     "output_type": "stream",
     "text": [
      "##################################################\n",
      "Nice                           Brest                         \n",
      "  Probabilities: Home: 0.58, Draw: 0.21, Away: 0.21\n",
      "  Odds: Home: 0.68, Draw: 0.18, Away: 0.14\n",
      "##################################################\n",
      "##################################################\n",
      "Lyon                           Angers                        \n",
      "  Probabilities: Home: 0.64, Draw: 0.20, Away: 0.16\n",
      "  Odds: Home: 0.78, Draw: 0.14, Away: 0.09\n",
      "##################################################\n",
      "##################################################\n",
      "St Etienne                     Toulouse                      \n",
      "  Probabilities: Home: 0.26, Draw: 0.24, Away: 0.50\n",
      "  Odds: Home: 0.48, Draw: 0.22, Away: 0.29\n",
      "##################################################\n",
      "##################################################\n",
      "Marseille                      Rennes                        \n",
      "  Probabilities: Home: 0.56, Draw: 0.20, Away: 0.24\n",
      "  Odds: Home: 0.52, Draw: 0.23, Away: 0.25\n",
      "##################################################\n",
      "##################################################\n",
      "Lille                          Reims                         \n",
      "  Probabilities: Home: 0.55, Draw: 0.25, Away: 0.20\n",
      "  Odds: Home: 0.71, Draw: 0.18, Away: 0.11\n",
      "##################################################\n",
      "##################################################\n",
      "Nantes                         Montpellier                   \n",
      "  Probabilities: Home: 0.49, Draw: 0.28, Away: 0.22\n",
      "  Odds: Home: 0.65, Draw: 0.20, Away: 0.15\n",
      "##################################################\n",
      "##################################################\n",
      "Strasbourg                     Le Havre                      \n",
      "  Probabilities: Home: 0.64, Draw: 0.18, Away: 0.18\n",
      "  Odds: Home: 0.63, Draw: 0.19, Away: 0.18\n",
      "##################################################\n",
      "##################################################\n",
      "Paris SG                       Auxerre                       \n",
      "  Probabilities: Home: 0.68, Draw: 0.17, Away: 0.15\n",
      "  Odds: Home: 0.83, Draw: 0.11, Away: 0.07\n",
      "##################################################\n",
      "##################################################\n",
      "Lens                           Monaco                        \n",
      "  Probabilities: Home: 0.23, Draw: 0.29, Away: 0.48\n",
      "  Odds: Home: 0.24, Draw: 0.22, Away: 0.54\n",
      "##################################################\n"
     ]
    }
   ],
   "source": [
    "fixture = pd.read_csv(\"odds/ligue1_15-05-2025.csv\")\n",
    "fixture = fixture.iloc[1:10]\n",
    "# Assuming fixture and odds are already defined DataFrames\n",
    "proba_match = []\n",
    "list_odds = []\n",
    "list_samples = {}\n",
    "for idx, match in fixture.iterrows():\n",
    "    print(\"#\" * 50)\n",
    "    print(f\"{match['home_team']:<30} {match['away_team']:<30}\")\n",
    "    # Display probabilities from Poisson prediction\n",
    "    home_team = mapping_dict.get(match[\"home_team\"], match[\"home_team\"])\n",
    "    away_team = mapping_dict.get(match[\"away_team\"], match[\"away_team\"])\n",
    "\n",
    "    probas = model.predict(home_team=home_team, away_team=away_team).return_probas()\n",
    "    lambda_h, lambda_a = model.get_samples(home_team=home_team, away_team=away_team)\n",
    "    home_prob = probas[0]\n",
    "    draw_prob = probas[1]\n",
    "    away_prob = probas[2]\n",
    "    print(f\"  Probabilities: Home: {home_prob:.2f}, Draw: {draw_prob:.2f}, Away: {away_prob:.2f}\")\n",
    "    # Display odds from the function\n",
    "    odds_list = [match[\"H\"], match[\"D\"], match[\"A\"]]\n",
    "    proba_match.append(probas)\n",
    "    list_odds.append(OddsInput(home_team=match[\"home_team\"], away_team=match[\"away_team\"], odds=odds_list))\n",
    "    list_samples[list_odds[-1].match_id] = (lambda_h, lambda_a)\n",
    "\n",
    "    odds_result = odds.power(odds=odds_list)[0]\n",
    "    print(f\"  Odds: Home: {odds_result[0]:.2f}, Draw: {odds_result[1]:.2f}, Away: {odds_result[2]:.2f}\")\n",
    "    print(\"#\" * 50)\n",
    "proba_match = np.asarray(proba_match)"
   ]
  },
  {
   "cell_type": "code",
   "execution_count": 10,
   "metadata": {},
   "outputs": [],
   "source": [
    "enhanced_list_bet = select_matches_posterior(odds_input=list_odds, lambda_samples = list_samples, edge_floor=0.1, prob_edge_threshold=0.7, single_bet_per_game=True)"
   ]
  },
  {
   "cell_type": "code",
   "execution_count": 11,
   "metadata": {},
   "outputs": [
    {
     "data": {
      "text/plain": [
       "[Bet(match_id='Paris SG - Auxerre', market='A', odds=11.5, edge_mean=0.814977288876507, prob_mean=0.157824112076218, edge_std=0.739695875081415, prob_edge_pos=0.8766666666666667, stake=0.0),\n",
       " Bet(match_id='St Etienne - Toulouse', market='A', odds=3.15, edge_mean=0.5810182445413864, prob_mean=0.5019105538226624, edge_std=0.33898932140248317, prob_edge_pos=0.9560833333333333, stake=0.0),\n",
       " Bet(match_id='Lille - Reims', market='A', odds=7.5, edge_mean=0.5484388781802203, prob_mean=0.20645851709069604, edge_std=0.5230168433060252, prob_edge_pos=0.8575, stake=0.0),\n",
       " Bet(match_id='Lyon - Angers', market='A', odds=9.0, edge_mean=0.5375799658187588, prob_mean=0.17084221842430652, edge_std=0.6092803559777633, prob_edge_pos=0.8055, stake=0.0),\n",
       " Bet(match_id='Nice - Brest', market='A', odds=6.2, edge_mean=0.3718004240005536, prob_mean=0.22125813290331509, edge_std=0.4889805978840162, prob_edge_pos=0.7658333333333334, stake=0.0),\n",
       " Bet(match_id='Nantes - Montpellier', market='A', odds=5.9, edge_mean=0.36334142774920086, prob_mean=0.2310748182625764, edge_std=0.48562600171520814, prob_edge_pos=0.7578333333333334, stake=0.0),\n",
       " Bet(match_id='Lens - Monaco', market='D', odds=4.05, edge_mean=0.16108166971309545, prob_mean=0.28668683202792483, edge_std=0.15011652456390648, prob_edge_pos=0.8673333333333333, stake=0.0)]"
      ]
     },
     "execution_count": 11,
     "metadata": {},
     "output_type": "execute_result"
    }
   ],
   "source": [
    "enhanced_list_bet"
   ]
  },
  {
   "cell_type": "code",
   "execution_count": null,
   "metadata": {},
   "outputs": [],
   "source": []
  },
  {
   "cell_type": "code",
   "execution_count": 12,
   "metadata": {},
   "outputs": [
    {
     "data": {
      "application/vnd.jupyter.widget-view+json": {
       "model_id": "0a5c5431c6674637b7d9eb6af61337c0",
       "version_major": 2,
       "version_minor": 0
      },
      "text/plain": [
       "  0%|          | 0/5000 [00:00<?, ?it/s]"
      ]
     },
     "metadata": {},
     "output_type": "display_data"
    },
    {
     "name": "stdout",
     "output_type": "stream",
     "text": [
      "Bankroll used: 38.00 €  •  Possible return: 258.65 €\n",
      "[Paris SG - Auxerre | A] odds=11.50, edge=0.815, p=0.158, stake=6.00\n",
      "[St Etienne - Toulouse | A] odds=3.15, edge=0.581, p=0.502, stake=6.00\n",
      "[Lille - Reims | A] odds=7.50, edge=0.548, p=0.206, stake=6.00\n",
      "[Lyon - Angers | A] odds=9.00, edge=0.538, p=0.171, stake=5.00\n",
      "[Nice - Brest | A] odds=6.20, edge=0.372, p=0.221, stake=5.00\n",
      "[Nantes - Montpellier | A] odds=5.90, edge=0.363, p=0.231, stake=5.00\n",
      "[Lens - Monaco | D] odds=4.05, edge=0.161, p=0.287, stake=5.00\n"
     ]
    }
   ],
   "source": [
    "selected_bet = kelly_portfolio_torch(list_bets=enhanced_list_bet[:9], lambda_samples=list_samples, bankroll=75, verbose=True, bankroll_cap=0.5, per_bet_cap=0.1)"
   ]
  },
  {
   "cell_type": "code",
   "execution_count": 13,
   "metadata": {},
   "outputs": [
    {
     "name": "stdout",
     "output_type": "stream",
     "text": [
      "[Paris SG - Auxerre | A] odds=11.50, edge=0.815, p=0.158, stake=7.00\n",
      "[St Etienne - Toulouse | A] odds=3.15, edge=0.581, p=0.502, stake=30.00\n",
      "[Lille - Reims | A] odds=7.50, edge=0.548, p=0.206, stake=8.00\n",
      "[Lyon - Angers | A] odds=9.00, edge=0.538, p=0.171, stake=6.00\n",
      "[Nice - Brest | A] odds=6.20, edge=0.372, p=0.221, stake=8.00\n",
      "[Nantes - Montpellier | A] odds=5.90, edge=0.363, p=0.231, stake=9.00\n",
      "[Lens - Monaco | D] odds=4.05, edge=0.161, p=0.287, stake=11.00\n",
      "Bankroll used: 79.00 €\n",
      "Possible return: 436.25 €\n"
     ]
    },
    {
     "data": {
      "text/plain": [
       "[Bet(match_id='Paris SG - Auxerre', market='A', odds=11.5, edge_mean=0.814977288876507, prob_mean=0.157824112076218, edge_std=0.739695875081415, prob_edge_pos=0.8766666666666667, stake=7),\n",
       " Bet(match_id='St Etienne - Toulouse', market='A', odds=3.15, edge_mean=0.5810182445413864, prob_mean=0.5019105538226624, edge_std=0.33898932140248317, prob_edge_pos=0.9560833333333333, stake=30),\n",
       " Bet(match_id='Lille - Reims', market='A', odds=7.5, edge_mean=0.5484388781802203, prob_mean=0.20645851709069604, edge_std=0.5230168433060252, prob_edge_pos=0.8575, stake=8),\n",
       " Bet(match_id='Lyon - Angers', market='A', odds=9.0, edge_mean=0.5375799658187588, prob_mean=0.17084221842430652, edge_std=0.6092803559777633, prob_edge_pos=0.8055, stake=6),\n",
       " Bet(match_id='Nice - Brest', market='A', odds=6.2, edge_mean=0.3718004240005536, prob_mean=0.22125813290331509, edge_std=0.4889805978840162, prob_edge_pos=0.7658333333333334, stake=8),\n",
       " Bet(match_id='Nantes - Montpellier', market='A', odds=5.9, edge_mean=0.36334142774920086, prob_mean=0.2310748182625764, edge_std=0.48562600171520814, prob_edge_pos=0.7578333333333334, stake=9),\n",
       " Bet(match_id='Lens - Monaco', market='D', odds=4.05, edge_mean=0.16108166971309545, prob_mean=0.28668683202792483, edge_std=0.15011652456390648, prob_edge_pos=0.8673333333333333, stake=11)]"
      ]
     },
     "execution_count": 13,
     "metadata": {},
     "output_type": "execute_result"
    }
   ],
   "source": [
    "kelly_shrinkage(list_bets=enhanced_list_bet[:9], lambda_samples=list_samples, bankroll=300, bankroll_cap=0.3, per_bet_cap=0.1) #46.6"
   ]
  },
  {
   "cell_type": "code",
   "execution_count": 15,
   "metadata": {},
   "outputs": [
    {
     "data": {
      "application/vnd.jupyter.widget-view+json": {
       "model_id": "0c38046be7184480a9a0562c0b9a52cb",
       "version_major": 2,
       "version_minor": 0
      },
      "text/plain": [
       "  0%|          | 0/20000 [00:00<?, ?it/s]"
      ]
     },
     "metadata": {},
     "output_type": "display_data"
    },
    {
     "name": "stdout",
     "output_type": "stream",
     "text": [
      "\n",
      "Total stake used: 90.00 (30.0 % of bankroll)\n",
      "\n",
      " Possible return 642.6\n",
      "P(portfolio loss)≈ 0.780%\n",
      "[Paris SG - Auxerre | A] odds=11.50, edge=0.815, p=0.158, stake=18.00\n",
      "[St Etienne - Toulouse | A] odds=3.15, edge=0.581, p=0.502, stake=14.00\n",
      "[Lille - Reims | A] odds=7.50, edge=0.548, p=0.206, stake=14.00\n",
      "[Lyon - Angers | A] odds=9.00, edge=0.538, p=0.171, stake=13.00\n",
      "[Nice - Brest | A] odds=6.20, edge=0.372, p=0.221, stake=11.00\n",
      "[Nantes - Montpellier | A] odds=5.90, edge=0.363, p=0.231, stake=11.00\n",
      "[Lens - Monaco | D] odds=4.05, edge=0.161, p=0.287, stake=9.00\n"
     ]
    },
    {
     "data": {
      "text/plain": [
       "[Bet(match_id='Paris SG - Auxerre', market='A', odds=11.5, edge_mean=0.814977288876507, prob_mean=0.157824112076218, edge_std=0.739695875081415, prob_edge_pos=0.8766666666666667, stake=18.0),\n",
       " Bet(match_id='St Etienne - Toulouse', market='A', odds=3.15, edge_mean=0.5810182445413864, prob_mean=0.5019105538226624, edge_std=0.33898932140248317, prob_edge_pos=0.9560833333333333, stake=14.0),\n",
       " Bet(match_id='Lille - Reims', market='A', odds=7.5, edge_mean=0.5484388781802203, prob_mean=0.20645851709069604, edge_std=0.5230168433060252, prob_edge_pos=0.8575, stake=14.0),\n",
       " Bet(match_id='Lyon - Angers', market='A', odds=9.0, edge_mean=0.5375799658187588, prob_mean=0.17084221842430652, edge_std=0.6092803559777633, prob_edge_pos=0.8055, stake=13.0),\n",
       " Bet(match_id='Nice - Brest', market='A', odds=6.2, edge_mean=0.3718004240005536, prob_mean=0.22125813290331509, edge_std=0.4889805978840162, prob_edge_pos=0.7658333333333334, stake=11.0),\n",
       " Bet(match_id='Nantes - Montpellier', market='A', odds=5.9, edge_mean=0.36334142774920086, prob_mean=0.2310748182625764, edge_std=0.48562600171520814, prob_edge_pos=0.7578333333333334, stake=11.0),\n",
       " Bet(match_id='Lens - Monaco', market='D', odds=4.05, edge_mean=0.16108166971309545, prob_mean=0.28668683202792483, edge_std=0.15011652456390648, prob_edge_pos=0.8673333333333333, stake=9.0)]"
      ]
     },
     "execution_count": 15,
     "metadata": {},
     "output_type": "execute_result"
    }
   ],
   "source": [
    "optimise_portfolio_torch(list_bets=enhanced_list_bet[:9], bankroll=300, max_fraction=0.3, iters=20_000, lr=0.002, verbose=True)"
   ]
  },
  {
   "cell_type": "code",
   "execution_count": 23,
   "metadata": {},
   "outputs": [
    {
     "data": {
      "application/vnd.jupyter.widget-view+json": {
       "model_id": "4bd9d71ce56047078531f4caf0003735",
       "version_major": 2,
       "version_minor": 0
      },
      "text/plain": [
       "  0%|          | 0/5000 [00:00<?, ?it/s]"
      ]
     },
     "metadata": {},
     "output_type": "display_data"
    },
    {
     "name": "stdout",
     "output_type": "stream",
     "text": [
      "Bankroll used: 91.00 €  •  Possible return: 614.90 €\n",
      "[Paris SG - Auxerre | A] odds=11.50, edge=0.814, p=0.158, stake=13.00\n",
      "[St Etienne - Toulouse | A] odds=3.15, edge=0.578, p=0.501, stake=13.00\n",
      "[Lille - Reims | A] odds=7.50, edge=0.551, p=0.207, stake=13.00\n",
      "[Lyon - Angers | A] odds=9.00, edge=0.536, p=0.171, stake=13.00\n",
      "[Nice - Brest | A] odds=6.20, edge=0.372, p=0.221, stake=13.00\n",
      "[Nantes - Montpellier | A] odds=5.90, edge=0.357, p=0.230, stake=13.00\n",
      "[Lens - Monaco | D] odds=4.05, edge=0.161, p=0.287, stake=13.00\n"
     ]
    }
   ],
   "source": [
    "selected_bet = kelly_portfolio_torch(list_bets=enhanced_list_bet[:9], lambda_samples=list_samples, bankroll=300, verbose=True, bankroll_cap=0.3, per_bet_cap=0.1)"
   ]
  },
  {
   "cell_type": "code",
   "execution_count": 25,
   "metadata": {},
   "outputs": [
    {
     "data": {
      "text/plain": [
       "(0.22669227552077034, 0.2918691766283236, 0.481438547850906)"
      ]
     },
     "execution_count": 25,
     "metadata": {},
     "output_type": "execute_result"
    }
   ],
   "source": [
    "model.predict(home_team=\"Lens\", away_team=\"Monaco\").return_probas()"
   ]
  },
  {
   "cell_type": "code",
   "execution_count": 22,
   "metadata": {},
   "outputs": [],
   "source": [
    "import numpy as np\n",
    "class NumpyEncoder(json.JSONEncoder):\n",
    "    def default(self, obj):\n",
    "        if isinstance(obj, (np.integer, np.int_)):\n",
    "            return int(obj)\n",
    "        elif isinstance(obj, (np.floating, np.float_)):\n",
    "            return float(obj)\n",
    "        elif isinstance(obj, np.ndarray):\n",
    "            return obj.tolist()\n",
    "        return super().default(obj)"
   ]
  },
  {
   "cell_type": "code",
   "execution_count": 15,
   "metadata": {},
   "outputs": [],
   "source": [
    "bets_dict_list = [bet.to_dict() for bet in selected_bet]\n",
    "\n",
    "\n",
    "with open(\"bets.json\", \"w\") as f:\n",
    "    json.dump(bets_dict_list, f, indent=4, cls=NumpyEncoder)"
   ]
  },
  {
   "cell_type": "code",
   "execution_count": 16,
   "metadata": {},
   "outputs": [
    {
     "name": "stdout",
     "output_type": "stream",
     "text": [
      "##################################################\n",
      "Nice                           Brest                         \n",
      "  Probabilities: Home: 0.58, Draw: 0.21, Away: 0.21\n",
      "  Odds: Home: 0.67, Draw: 0.18, Away: 0.14\n",
      "##################################################\n",
      "##################################################\n",
      "Lyon                           Angers                        \n",
      "  Probabilities: Home: 0.64, Draw: 0.20, Away: 0.16\n",
      "  Odds: Home: 0.76, Draw: 0.14, Away: 0.09\n",
      "##################################################\n",
      "##################################################\n",
      "St Etienne                     Toulouse                      \n",
      "  Probabilities: Home: 0.26, Draw: 0.24, Away: 0.50\n",
      "  Odds: Home: 0.48, Draw: 0.23, Away: 0.29\n",
      "##################################################\n",
      "##################################################\n",
      "Marseille                      Rennes                        \n",
      "  Probabilities: Home: 0.56, Draw: 0.20, Away: 0.24\n",
      "  Odds: Home: 0.52, Draw: 0.23, Away: 0.25\n",
      "##################################################\n",
      "##################################################\n",
      "Lille                          Reims                         \n",
      "  Probabilities: Home: 0.55, Draw: 0.25, Away: 0.20\n",
      "  Odds: Home: 0.70, Draw: 0.19, Away: 0.11\n",
      "##################################################\n",
      "##################################################\n",
      "Nantes                         Montpellier                   \n",
      "  Probabilities: Home: 0.50, Draw: 0.28, Away: 0.22\n",
      "  Odds: Home: 0.65, Draw: 0.21, Away: 0.15\n",
      "##################################################\n",
      "##################################################\n",
      "Strasbourg                     Le Havre                      \n",
      "  Probabilities: Home: 0.64, Draw: 0.18, Away: 0.18\n",
      "  Odds: Home: 0.62, Draw: 0.20, Away: 0.18\n",
      "##################################################\n",
      "##################################################\n",
      "Paris SG                       Auxerre                       \n",
      "  Probabilities: Home: 0.68, Draw: 0.17, Away: 0.15\n",
      "  Odds: Home: 0.82, Draw: 0.11, Away: 0.07\n",
      "##################################################\n",
      "##################################################\n",
      "Lens                           Monaco                        \n",
      "  Probabilities: Home: 0.23, Draw: 0.29, Away: 0.48\n",
      "  Odds: Home: 0.24, Draw: 0.22, Away: 0.53\n",
      "##################################################\n"
     ]
    }
   ],
   "source": [
    "#pm.summary(model.trace)fixture = pd.read_csv(\"odds/ligue1_01-05-2025.csv\")\n",
    "fixture = fixture.iloc[:9]\n",
    "# Assuming fixture and odds are already defined DataFrames\n",
    "proba_match = []\n",
    "list_odds = []\n",
    "list_samples = {}\n",
    "for idx, match in fixture.iterrows():\n",
    "    print(\"#\" * 50)\n",
    "    print(f\"{match['home_team']:<30} {match['away_team']:<30}\")\n",
    "    # Display probabilities from Poisson prediction\n",
    "    home_team = mapping_dict.get(match[\"home_team\"], match[\"home_team\"])\n",
    "    away_team = mapping_dict.get(match[\"away_team\"], match[\"away_team\"])\n",
    "    goals_matrix = model.predict(home_team=home_team, away_team=away_team)\n",
    "\n",
    "    probas = model.predict(home_team=home_team, away_team=away_team).return_probas()\n",
    "    lambda_h, lambda_a = model.get_samples(home_team=home_team, away_team=away_team)\n",
    "    home_prob = probas[0]\n",
    "    draw_prob = probas[1]\n",
    "    away_prob = probas[2]\n",
    "    print(f\"  Probabilities: Home: {home_prob:.2f}, Draw: {draw_prob:.2f}, Away: {away_prob:.2f}\")\n",
    "    # Display odds from the function\n",
    "    odds_list = [match[\"H\"], match[\"D\"], match[\"A\"]]\n",
    "    proba_match.append(probas)\n",
    "    list_odds.append(OddsInput(home_team=match[\"home_team\"], away_team=match[\"away_team\"], odds=odds_list))\n",
    "    list_samples[list_odds[-1].match_id] = (lambda_h, lambda_a)\n",
    "\n",
    "    odds_result = odds.shin(odds=odds_list)[0]\n",
    "    print(f\"  Odds: Home: {odds_result[0]:.2f}, Draw: {odds_result[1]:.2f}, Away: {odds_result[2]:.2f}\")\n",
    "    print(\"#\" * 50)\n",
    "proba_match = np.asarray(proba_match)"
   ]
  },
  {
   "cell_type": "markdown",
   "metadata": {},
   "source": []
  },
  {
   "cell_type": "code",
   "execution_count": 17,
   "metadata": {},
   "outputs": [
    {
     "data": {
      "text/plain": [
       "(0.29720325648114376, 0.21194624442558677, 0.4908504990931116)"
      ]
     },
     "execution_count": 17,
     "metadata": {},
     "output_type": "execute_result"
    }
   ],
   "source": [
    "model.predict(home_team=\"Strasbourg\", away_team=\"Paris SG\").return_probas()"
   ]
  },
  {
   "cell_type": "code",
   "execution_count": 18,
   "metadata": {},
   "outputs": [
    {
     "data": {
      "text/plain": [
       "(0.054144392926241874, 0.08611302024876438, 0.8597425868248362)"
      ]
     },
     "execution_count": 18,
     "metadata": {},
     "output_type": "execute_result"
    }
   ],
   "source": [
    "model.predict(home_team=\"Strasbourg\", away_team=\"Paris SG\").asian_handicap_results(-2)"
   ]
  },
  {
   "cell_type": "code",
   "execution_count": null,
   "metadata": {},
   "outputs": [],
   "source": []
  },
  {
   "cell_type": "code",
   "execution_count": null,
   "metadata": {},
   "outputs": [],
   "source": []
  }
 ],
 "metadata": {
  "kernelspec": {
   "display_name": "footix",
   "language": "python",
   "name": "python3"
  },
  "language_info": {
   "codemirror_mode": {
    "name": "ipython",
    "version": 3
   },
   "file_extension": ".py",
   "mimetype": "text/x-python",
   "name": "python",
   "nbconvert_exporter": "python",
   "pygments_lexer": "ipython3",
   "version": "3.12.8"
  }
 },
 "nbformat": 4,
 "nbformat_minor": 2
}
