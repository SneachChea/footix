{
 "cells": [
  {
   "cell_type": "code",
   "execution_count": 14,
   "metadata": {},
   "outputs": [],
   "source": [
    "from footix.models.bayesian import Bayesian\n",
    "from footix.data_io.footballdata import ScrapFootballData\n",
    "from footix.metrics import rps, incertity, zscore\n",
    "import numpy as np"
   ]
  },
  {
   "cell_type": "markdown",
   "metadata": {},
   "source": [
    "# Loading the dataset:\n",
    "\n",
    "Here, we are going to play with the season 2024-2025 of French division ligue 1, using the scrapper of [football-data](www.footbal-data.co.uk).\n",
    "\n",
    "We are also going to divide the dataset in two parts. One for training the model and one for benchmarking its performances"
   ]
  },
  {
   "cell_type": "code",
   "execution_count": 3,
   "metadata": {},
   "outputs": [],
   "source": [
    "dataset = ScrapFootballData(competition=\"FRA Ligue 1\", season=\"2024-2025\", path =\"./data\", force_reload=True).get_fixtures()"
   ]
  },
  {
   "cell_type": "code",
   "execution_count": 4,
   "metadata": {},
   "outputs": [
    {
     "data": {
      "text/html": [
       "<div>\n",
       "<style scoped>\n",
       "    .dataframe tbody tr th:only-of-type {\n",
       "        vertical-align: middle;\n",
       "    }\n",
       "\n",
       "    .dataframe tbody tr th {\n",
       "        vertical-align: top;\n",
       "    }\n",
       "\n",
       "    .dataframe thead th {\n",
       "        text-align: right;\n",
       "    }\n",
       "</style>\n",
       "<table border=\"1\" class=\"dataframe\">\n",
       "  <thead>\n",
       "    <tr style=\"text-align: right;\">\n",
       "      <th></th>\n",
       "      <th>div</th>\n",
       "      <th>date</th>\n",
       "      <th>time</th>\n",
       "      <th>home_team</th>\n",
       "      <th>away_team</th>\n",
       "      <th>fthg</th>\n",
       "      <th>ftag</th>\n",
       "      <th>ftr</th>\n",
       "      <th>hthg</th>\n",
       "      <th>htag</th>\n",
       "      <th>...</th>\n",
       "      <th>b365_caha</th>\n",
       "      <th>pcahh</th>\n",
       "      <th>pcaha</th>\n",
       "      <th>max_cahh</th>\n",
       "      <th>max_caha</th>\n",
       "      <th>avg_cahh</th>\n",
       "      <th>avg_caha</th>\n",
       "      <th>bfecahh</th>\n",
       "      <th>bfecaha</th>\n",
       "      <th>match_id</th>\n",
       "    </tr>\n",
       "  </thead>\n",
       "  <tbody>\n",
       "    <tr>\n",
       "      <th>0</th>\n",
       "      <td>F1</td>\n",
       "      <td>16/08/2024</td>\n",
       "      <td>19:45</td>\n",
       "      <td>Le Havre</td>\n",
       "      <td>Paris SG</td>\n",
       "      <td>1</td>\n",
       "      <td>4</td>\n",
       "      <td>A</td>\n",
       "      <td>0</td>\n",
       "      <td>1</td>\n",
       "      <td>...</td>\n",
       "      <td>2.00</td>\n",
       "      <td>1.95</td>\n",
       "      <td>1.97</td>\n",
       "      <td>1.95</td>\n",
       "      <td>2.02</td>\n",
       "      <td>1.89</td>\n",
       "      <td>1.95</td>\n",
       "      <td>1.95</td>\n",
       "      <td>2.02</td>\n",
       "      <td>Le Havre - Paris SG - 16/08/2024</td>\n",
       "    </tr>\n",
       "    <tr>\n",
       "      <th>1</th>\n",
       "      <td>F1</td>\n",
       "      <td>17/08/2024</td>\n",
       "      <td>16:00</td>\n",
       "      <td>Brest</td>\n",
       "      <td>Marseille</td>\n",
       "      <td>1</td>\n",
       "      <td>5</td>\n",
       "      <td>A</td>\n",
       "      <td>1</td>\n",
       "      <td>3</td>\n",
       "      <td>...</td>\n",
       "      <td>2.04</td>\n",
       "      <td>1.91</td>\n",
       "      <td>2.02</td>\n",
       "      <td>1.91</td>\n",
       "      <td>2.08</td>\n",
       "      <td>1.85</td>\n",
       "      <td>2.01</td>\n",
       "      <td>1.90</td>\n",
       "      <td>2.09</td>\n",
       "      <td>Brest - Marseille - 17/08/2024</td>\n",
       "    </tr>\n",
       "    <tr>\n",
       "      <th>2</th>\n",
       "      <td>F1</td>\n",
       "      <td>17/08/2024</td>\n",
       "      <td>18:00</td>\n",
       "      <td>Reims</td>\n",
       "      <td>Lille</td>\n",
       "      <td>0</td>\n",
       "      <td>2</td>\n",
       "      <td>A</td>\n",
       "      <td>0</td>\n",
       "      <td>1</td>\n",
       "      <td>...</td>\n",
       "      <td>1.70</td>\n",
       "      <td>2.14</td>\n",
       "      <td>1.81</td>\n",
       "      <td>2.14</td>\n",
       "      <td>1.85</td>\n",
       "      <td>2.07</td>\n",
       "      <td>1.80</td>\n",
       "      <td>2.13</td>\n",
       "      <td>1.86</td>\n",
       "      <td>Reims - Lille - 17/08/2024</td>\n",
       "    </tr>\n",
       "    <tr>\n",
       "      <th>3</th>\n",
       "      <td>F1</td>\n",
       "      <td>17/08/2024</td>\n",
       "      <td>20:00</td>\n",
       "      <td>Monaco</td>\n",
       "      <td>St Etienne</td>\n",
       "      <td>1</td>\n",
       "      <td>0</td>\n",
       "      <td>H</td>\n",
       "      <td>1</td>\n",
       "      <td>0</td>\n",
       "      <td>...</td>\n",
       "      <td>1.93</td>\n",
       "      <td>2.00</td>\n",
       "      <td>1.93</td>\n",
       "      <td>2.00</td>\n",
       "      <td>2.01</td>\n",
       "      <td>1.95</td>\n",
       "      <td>1.91</td>\n",
       "      <td>1.95</td>\n",
       "      <td>2.00</td>\n",
       "      <td>Monaco - St Etienne - 17/08/2024</td>\n",
       "    </tr>\n",
       "    <tr>\n",
       "      <th>4</th>\n",
       "      <td>F1</td>\n",
       "      <td>18/08/2024</td>\n",
       "      <td>14:00</td>\n",
       "      <td>Auxerre</td>\n",
       "      <td>Nice</td>\n",
       "      <td>2</td>\n",
       "      <td>1</td>\n",
       "      <td>H</td>\n",
       "      <td>1</td>\n",
       "      <td>1</td>\n",
       "      <td>...</td>\n",
       "      <td>2.11</td>\n",
       "      <td>1.82</td>\n",
       "      <td>2.13</td>\n",
       "      <td>1.83</td>\n",
       "      <td>2.17</td>\n",
       "      <td>1.77</td>\n",
       "      <td>2.10</td>\n",
       "      <td>1.84</td>\n",
       "      <td>2.16</td>\n",
       "      <td>Auxerre - Nice - 18/08/2024</td>\n",
       "    </tr>\n",
       "  </tbody>\n",
       "</table>\n",
       "<p>5 rows × 120 columns</p>\n",
       "</div>"
      ],
      "text/plain": [
       "  div        date   time home_team   away_team  fthg  ftag ftr  hthg  htag  \\\n",
       "0  F1  16/08/2024  19:45  Le Havre    Paris SG     1     4   A     0     1   \n",
       "1  F1  17/08/2024  16:00     Brest   Marseille     1     5   A     1     3   \n",
       "2  F1  17/08/2024  18:00     Reims       Lille     0     2   A     0     1   \n",
       "3  F1  17/08/2024  20:00    Monaco  St Etienne     1     0   H     1     0   \n",
       "4  F1  18/08/2024  14:00   Auxerre        Nice     2     1   H     1     1   \n",
       "\n",
       "   ... b365_caha  pcahh  pcaha  max_cahh  max_caha  avg_cahh  avg_caha  \\\n",
       "0  ...      2.00   1.95   1.97      1.95      2.02      1.89      1.95   \n",
       "1  ...      2.04   1.91   2.02      1.91      2.08      1.85      2.01   \n",
       "2  ...      1.70   2.14   1.81      2.14      1.85      2.07      1.80   \n",
       "3  ...      1.93   2.00   1.93      2.00      2.01      1.95      1.91   \n",
       "4  ...      2.11   1.82   2.13      1.83      2.17      1.77      2.10   \n",
       "\n",
       "   bfecahh  bfecaha                          match_id  \n",
       "0     1.95     2.02  Le Havre - Paris SG - 16/08/2024  \n",
       "1     1.90     2.09    Brest - Marseille - 17/08/2024  \n",
       "2     2.13     1.86        Reims - Lille - 17/08/2024  \n",
       "3     1.95     2.00  Monaco - St Etienne - 17/08/2024  \n",
       "4     1.84     2.16       Auxerre - Nice - 18/08/2024  \n",
       "\n",
       "[5 rows x 120 columns]"
      ]
     },
     "execution_count": 4,
     "metadata": {},
     "output_type": "execute_result"
    }
   ],
   "source": [
    "dataset.head()"
   ]
  },
  {
   "cell_type": "code",
   "execution_count": 5,
   "metadata": {},
   "outputs": [],
   "source": [
    "train_dataset = dataset.iloc[:-9]\n",
    "test_dataset = dataset.iloc[-9:]"
   ]
  },
  {
   "cell_type": "markdown",
   "metadata": {},
   "source": [
    "# Initialization of the model and fitting\n"
   ]
  },
  {
   "cell_type": "code",
   "execution_count": 7,
   "metadata": {},
   "outputs": [],
   "source": [
    "model = Bayesian(n_teams=18, n_goals=20)"
   ]
  },
  {
   "cell_type": "code",
   "execution_count": 8,
   "metadata": {},
   "outputs": [
    {
     "data": {
      "application/vnd.jupyter.widget-view+json": {
       "model_id": "f9dbf420785942c6bbc3bedf45dc2c3d",
       "version_major": 2,
       "version_minor": 0
      },
      "text/plain": [
       "  0%|          | 0/3000 [00:00<?, ?it/s]"
      ]
     },
     "metadata": {},
     "output_type": "display_data"
    },
    {
     "data": {
      "application/vnd.jupyter.widget-view+json": {
       "model_id": "cbd24bebe09045a49e28f7c5c327366d",
       "version_major": 2,
       "version_minor": 0
      },
      "text/plain": [
       "  0%|          | 0/3000 [00:00<?, ?it/s]"
      ]
     },
     "metadata": {},
     "output_type": "display_data"
    },
    {
     "data": {
      "application/vnd.jupyter.widget-view+json": {
       "model_id": "99fced3dd0b94da1bea8116b4f9969cc",
       "version_major": 2,
       "version_minor": 0
      },
      "text/plain": [
       "  0%|          | 0/3000 [00:00<?, ?it/s]"
      ]
     },
     "metadata": {},
     "output_type": "display_data"
    },
    {
     "data": {
      "application/vnd.jupyter.widget-view+json": {
       "model_id": "92535e772852460eaad4f69531526d1d",
       "version_major": 2,
       "version_minor": 0
      },
      "text/plain": [
       "  0%|          | 0/3000 [00:00<?, ?it/s]"
      ]
     },
     "metadata": {},
     "output_type": "display_data"
    },
    {
     "data": {
      "application/vnd.jupyter.widget-view+json": {
       "model_id": "bc0674f6ec2a42b9a388967cffef8e51",
       "version_major": 2,
       "version_minor": 0
      },
      "text/plain": [
       "  0%|          | 0/3000 [00:00<?, ?it/s]"
      ]
     },
     "metadata": {},
     "output_type": "display_data"
    },
    {
     "data": {
      "application/vnd.jupyter.widget-view+json": {
       "model_id": "b1426f4f952646a2b6edc7b17ef482d8",
       "version_major": 2,
       "version_minor": 0
      },
      "text/plain": [
       "  0%|          | 0/3000 [00:00<?, ?it/s]"
      ]
     },
     "metadata": {},
     "output_type": "display_data"
    }
   ],
   "source": [
    "model.fit(X_train=train_dataset)"
   ]
  },
  {
   "cell_type": "markdown",
   "metadata": {},
   "source": [
    "# Let's compute some metrics"
   ]
  },
  {
   "cell_type": "code",
   "execution_count": 13,
   "metadata": {},
   "outputs": [],
   "source": [
    "rps_list = []\n",
    "incertity_list = []\n",
    "zscore_list = []\n",
    "\n",
    "def _helper_result(result_str: str)-> int:\n",
    "    if result_str==\"H\":\n",
    "        return 0\n",
    "    if result_str==\"D\":\n",
    "        return 1\n",
    "    return 2\n",
    "\n",
    "for idx, row in test_dataset.iterrows():\n",
    "    probability = model.predict(home_team=row[\"home_team\"], away_team=row[\"away_team\"]).return_probas()\n",
    "    outcome_idx = _helper_result(row[\"ftr\"])\n",
    "    rps_list.append(rps(probas=probability, outcome_idx=outcome_idx))\n",
    "    zscore_list.append(zscore(probas=probability,rps_observed=rps_list[-1]))\n",
    "    incertity_list.append(incertity(probas=probability, outcome_idx=outcome_idx))"
   ]
  },
  {
   "cell_type": "code",
   "execution_count": 16,
   "metadata": {},
   "outputs": [
    {
     "name": "stdout",
     "output_type": "stream",
     "text": [
      "Incertity metric : 0.7251258714108871 +/- 0.4077280146084738\n",
      "RPS metric : 0.19659525043284487 +/- 0.15669399060595215\n",
      "Z-score metric : 0.10285156192234474 +/- 0.6267543170140295\n"
     ]
    }
   ],
   "source": [
    "print(f\"Incertity metric : {np.mean(incertity_list)} +/- {np.std(incertity_list)}\")\n",
    "print(f\"RPS metric : {np.mean(rps_list)} +/- {np.std(rps_list)}\")\n",
    "print(f\"Z-score metric : {np.mean(zscore_list)} +/- {np.std(zscore_list)}\")"
   ]
  },
  {
   "cell_type": "markdown",
   "metadata": {},
   "source": [
    "# Game focus"
   ]
  },
  {
   "cell_type": "code",
   "execution_count": 17,
   "metadata": {},
   "outputs": [],
   "source": [
    "goal_matrix_object = model.predict(home_team=\"St Etienne\", away_team=\"Toulouse\")"
   ]
  },
  {
   "cell_type": "code",
   "execution_count": null,
   "metadata": {},
   "outputs": [
    {
     "name": "stdout",
     "output_type": "stream",
     "text": [
      "Goal Matrix computed using [0.30, 0.36, 0.22, 0.09, 0.03, ...] and [0.17, 0.30, 0.27, 0.16, 0.07, ...].\n"
     ]
    }
   ],
   "source": [
    "goal_matrix_object"
   ]
  },
  {
   "cell_type": "code",
   "execution_count": null,
   "metadata": {},
   "outputs": [],
   "source": []
  }
 ],
 "metadata": {
  "kernelspec": {
   "display_name": "footix",
   "language": "python",
   "name": "python3"
  },
  "language_info": {
   "codemirror_mode": {
    "name": "ipython",
    "version": 3
   },
   "file_extension": ".py",
   "mimetype": "text/x-python",
   "name": "python",
   "nbconvert_exporter": "python",
   "pygments_lexer": "ipython3",
   "version": "3.12.8"
  }
 },
 "nbformat": 4,
 "nbformat_minor": 2
}
